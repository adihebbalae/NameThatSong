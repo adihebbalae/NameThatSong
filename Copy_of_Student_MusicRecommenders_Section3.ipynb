{
  "nbformat": 4,
  "nbformat_minor": 0,
  "metadata": {
    "colab": {
      "provenance": [],
      "include_colab_link": true
    },
    "kernelspec": {
      "name": "python3",
      "display_name": "Python 3"
    },
    "language_info": {
      "name": "python"
    }
  },
  "cells": [
    {
      "cell_type": "markdown",
      "metadata": {
        "id": "view-in-github",
        "colab_type": "text"
      },
      "source": [
        "<a href=\"https://colab.research.google.com/github/adihebbalae/NameThatSong/blob/main/Copy_of_Student_MusicRecommenders_Section3.ipynb\" target=\"_parent\"><img src=\"https://colab.research.google.com/assets/colab-badge.svg\" alt=\"Open In Colab\"/></a>"
      ]
    },
    {
      "cell_type": "markdown",
      "metadata": {
        "id": "ns5fGPq-SMhQ"
      },
      "source": [
        "<font color=\"#de3023\"><h1><b>REMINDER MAKE A COPY OF THIS NOTEBOOK, DO NOT EDIT</b></h1></font>"
      ]
    },
    {
      "cell_type": "markdown",
      "metadata": {
        "id": "GDKQs8t8cScx"
      },
      "source": [
        "# Part 3: Spotify hit prediction round 2!\n",
        "\n",
        "## Audio features\n",
        "\n",
        "![Spotify logo](https://drive.google.com/uc?id=1WsaRSK8pVfoEzI0BwZQcXCzhXBfQbI8m)\n",
        "\n",
        "In this notebook, we'll be building a hit prediction system for the dataset we've been working with; this time, however, we'll be going beyond the metadata and look at the **raw audio** instead!"
      ]
    },
    {
      "cell_type": "code",
      "metadata": {
        "id": "rWibtg0cb1tJ",
        "colab": {
          "base_uri": "https://localhost:8080/"
        },
        "outputId": "9ed9467b-80ce-448a-a76a-575a70794583"
      },
      "source": [
        "#@title Run this to download data and prepare the environment. (Restart runtime and rerun cell in case of an error) { display-mode: \"form\" }\n",
        "import pandas as pd\n",
        "import numpy as np\n",
        "import matplotlib.pyplot as plt\n",
        "import seaborn as sns\n",
        "import os\n",
        "# import gdown\n",
        "import sys\n",
        "\n",
        "# new dependencies\n",
        "!pip --disable-pip-version-check install requests==2.27.1\n",
        "!pip --disable-pip-version-check install urllib3\n",
        "!pip --disable-pip-version-check install spotipy --upgrade\n",
        "!pip --disable-pip-version-check  install traces\n",
        "\n",
        "import spotipy\n",
        "import requests\n",
        "from spotipy.oauth2 import SpotifyClientCredentials\n",
        "import traces\n",
        "\n",
        "# do not change these codes\n",
        "client_credentials_manager = SpotifyClientCredentials('e316c18604cb42399f3b679791362112','4bd95a0d37d145998cfdcaf2a68579d7')\n",
        "sp = spotipy.Spotify(client_credentials_manager=client_credentials_manager)\n",
        "\n",
        "# machine learning models\n",
        "from sklearn.decomposition import PCA\n",
        "from sklearn.linear_model import LogisticRegression\n",
        "from sklearn.naive_bayes import GaussianNB\n",
        "from sklearn.svm import SVC\n",
        "from sklearn.neighbors import KNeighborsClassifier\n",
        "from sklearn.neural_network import MLPClassifier\n",
        "from sklearn.model_selection import train_test_split\n",
        "\n",
        "#warning supression\n",
        "from warnings import simplefilter\n",
        "simplefilter(action=\"ignore\", category=pd.errors.PerformanceWarning)\n",
        "\n",
        "\n",
        "# audio analysis\n",
        "import librosa\n",
        "import librosa.display\n",
        "!pip install audio2numpy\n",
        "!apt-get install ffmpeg\n",
        "import audio2numpy\n",
        "import IPython.display as ipd\n",
        "\n",
        "# helper function to plot a timbre timecourse\n",
        "def plot_timbre(df, song_id, timbre_col):\n",
        "    col = f'timbre_{timbre_col}'\n",
        "    plt.figure()\n",
        "    plt.plot([i*.5 for i in range(len(df[col][song_id]))], df[col][song_id])\n",
        "    plt.xlabel('time/seconds')\n",
        "    plt.ylabel('timbre component weight')\n",
        "\n",
        "# timbre timecourses\n",
        "# data_url = 'https://drive.google.com/uc?id=1jwG1B98Uq5phurfGmdZg8w2BCJdth6Io'\n",
        "!wget -O ./spotify_data_timbre.csv = 'https://storage.googleapis.com/inspirit-ai-data-bucket-1/Data/AI%20Scholars/Sessions%206%20-%2010%20(Projects)/Project%20-%20Music%20Recommendation/spotify_data_timbre.csv'\n",
        "data_path = './spotify_data_timbre.csv'\n",
        "# gdown.download(data_url, data_path , True)\n",
        "\n",
        "# chirp file\n",
        "# chirp_url = 'https://drive.google.com/uc?id=1iX6wV0cSGIVM0nTItTSUlUehhKCILymB'\n",
        "!wget -O ./chirp.csv = 'https://storage.googleapis.com/inspirit-ai-data-bucket-1/Data/AI%20Scholars/Sessions%206%20-%2010%20(Projects)/Project%20-%20Music%20Recommendation/chirp.wav'\n",
        "chirp_path = './chirp.wav'\n",
        "# gdown.download(chirp_url, chirp_path , True)\n",
        "\n",
        "# two wav files\n",
        "# wav1_url = 'https://drive.google.com/uc?id=14qA48pPVJKU4KlP8YwqTpDo7WEewjXwf'\n",
        "!wget -O ./wav1_path.csv = 'https://storage.googleapis.com/inspirit-ai-data-bucket-1/Data/AI%20Scholars/Sessions%206%20-%2010%20(Projects)/Project%20-%20Music%20Recommendation/track_3504.wav'\n",
        "wav1_path = './sample1.wav'\n",
        "# gdown.download(wav1_url, wav1_path , True)\n",
        "\n",
        "# wav2_url = 'https://drive.google.com/uc?id=12XIWhMCAiabzGqXQhN2wB9o5p6MFR4Y0'\n",
        "!wget -O ./wav2_path.csv = 'https://storage.googleapis.com/inspirit-ai-data-bucket-1/Data/AI%20Scholars/Sessions%206%20-%2010%20(Projects)/Project%20-%20Music%20Recommendation/track_3642.wav'\n",
        "wav2_path = './sample2.wav'\n",
        "# gdown.download(wav2_url, wav2_path , True)\n",
        "\n",
        "# Check that the data downloaded by running this cell! It'll have more columns than usual.\n",
        "data = pd.read_csv(data_path)\n",
        "data.rename(columns={'Unnamed: 0':'orig_index'},inplace=True)\n",
        "data.drop(columns=['index'],inplace=True)"
      ],
      "execution_count": null,
      "outputs": [
        {
          "output_type": "stream",
          "name": "stdout",
          "text": [
            "Requirement already satisfied: requests==2.27.1 in /usr/local/lib/python3.10/dist-packages (2.27.1)\n",
            "Requirement already satisfied: urllib3<1.27,>=1.21.1 in /usr/local/lib/python3.10/dist-packages (from requests==2.27.1) (1.26.16)\n",
            "Requirement already satisfied: certifi>=2017.4.17 in /usr/local/lib/python3.10/dist-packages (from requests==2.27.1) (2023.5.7)\n",
            "Requirement already satisfied: charset-normalizer~=2.0.0 in /usr/local/lib/python3.10/dist-packages (from requests==2.27.1) (2.0.12)\n",
            "Requirement already satisfied: idna<4,>=2.5 in /usr/local/lib/python3.10/dist-packages (from requests==2.27.1) (3.4)\n",
            "Requirement already satisfied: urllib3 in /usr/local/lib/python3.10/dist-packages (1.26.16)\n",
            "Collecting spotipy\n",
            "  Downloading spotipy-2.23.0-py3-none-any.whl (29 kB)\n",
            "Collecting redis>=3.5.3 (from spotipy)\n",
            "  Downloading redis-4.6.0-py3-none-any.whl (241 kB)\n",
            "\u001b[2K     \u001b[90m━━━━━━━━━━━━━━━━━━━━━━━━━━━━━━━━━━━━━━━\u001b[0m \u001b[32m241.1/241.1 kB\u001b[0m \u001b[31m5.4 MB/s\u001b[0m eta \u001b[36m0:00:00\u001b[0m\n",
            "\u001b[?25hRequirement already satisfied: requests>=2.25.0 in /usr/local/lib/python3.10/dist-packages (from spotipy) (2.27.1)\n",
            "Requirement already satisfied: six>=1.15.0 in /usr/local/lib/python3.10/dist-packages (from spotipy) (1.16.0)\n",
            "Requirement already satisfied: urllib3>=1.26.0 in /usr/local/lib/python3.10/dist-packages (from spotipy) (1.26.16)\n",
            "Requirement already satisfied: async-timeout>=4.0.2 in /usr/local/lib/python3.10/dist-packages (from redis>=3.5.3->spotipy) (4.0.2)\n",
            "Requirement already satisfied: certifi>=2017.4.17 in /usr/local/lib/python3.10/dist-packages (from requests>=2.25.0->spotipy) (2023.5.7)\n",
            "Requirement already satisfied: charset-normalizer~=2.0.0 in /usr/local/lib/python3.10/dist-packages (from requests>=2.25.0->spotipy) (2.0.12)\n",
            "Requirement already satisfied: idna<4,>=2.5 in /usr/local/lib/python3.10/dist-packages (from requests>=2.25.0->spotipy) (3.4)\n",
            "Installing collected packages: redis, spotipy\n",
            "Successfully installed redis-4.6.0 spotipy-2.23.0\n",
            "Collecting traces\n",
            "  Downloading traces-0.6.0-py2.py3-none-any.whl (18 kB)\n",
            "Requirement already satisfied: sortedcontainers in /usr/local/lib/python3.10/dist-packages (from traces) (2.4.0)\n",
            "Collecting infinity (from traces)\n",
            "  Downloading infinity-1.5.tar.gz (5.4 kB)\n",
            "  Preparing metadata (setup.py) ... \u001b[?25l\u001b[?25hdone\n",
            "Requirement already satisfied: python-dateutil in /usr/local/lib/python3.10/dist-packages (from traces) (2.8.2)\n",
            "Requirement already satisfied: six>=1.5 in /usr/local/lib/python3.10/dist-packages (from python-dateutil->traces) (1.16.0)\n",
            "Building wheels for collected packages: infinity\n",
            "  Building wheel for infinity (setup.py) ... \u001b[?25l\u001b[?25hdone\n",
            "  Created wheel for infinity: filename=infinity-1.5-py3-none-any.whl size=3092 sha256=2d113a5be0cdecd939defb2c580d5a278a717d59f444e4a6f421f122e680c80e\n",
            "  Stored in directory: /root/.cache/pip/wheels/cb/ba/c7/89592ec56d0923ca07b295d3cf21650e5de21a53cce64f87f9\n",
            "Successfully built infinity\n",
            "Installing collected packages: infinity, traces\n",
            "Successfully installed infinity-1.5 traces-0.6.0\n",
            "Collecting audio2numpy\n",
            "  Downloading audio2numpy-0.1.2-py3-none-any.whl (10 kB)\n",
            "Requirement already satisfied: numpy in /usr/local/lib/python3.10/dist-packages (from audio2numpy) (1.22.4)\n",
            "Collecting ffmpeg (from audio2numpy)\n",
            "  Downloading ffmpeg-1.4.tar.gz (5.1 kB)\n",
            "  Preparing metadata (setup.py) ... \u001b[?25l\u001b[?25hdone\n",
            "Building wheels for collected packages: ffmpeg\n",
            "  Building wheel for ffmpeg (setup.py) ... \u001b[?25l\u001b[?25hdone\n",
            "  Created wheel for ffmpeg: filename=ffmpeg-1.4-py3-none-any.whl size=6083 sha256=4005a2a95f1afdf0b38277b89d0f613c3bdd4cf07b8eeb303251ce11f64e863b\n",
            "  Stored in directory: /root/.cache/pip/wheels/8e/7a/69/cd6aeb83b126a7f04cbe7c9d929028dc52a6e7d525ff56003a\n",
            "Successfully built ffmpeg\n",
            "Installing collected packages: ffmpeg, audio2numpy\n",
            "Successfully installed audio2numpy-0.1.2 ffmpeg-1.4\n",
            "Reading package lists... Done\n",
            "Building dependency tree       \n",
            "Reading state information... Done\n",
            "ffmpeg is already the newest version (7:4.2.7-0ubuntu0.1).\n",
            "0 upgraded, 0 newly installed, 0 to remove and 13 not upgraded.\n",
            "--2023-06-29 15:10:18--  http://=/\n",
            "Resolving = (=)... failed: Name or service not known.\n",
            "wget: unable to resolve host address ‘=’\n",
            "--2023-06-29 15:10:18--  https://storage.googleapis.com/inspirit-ai-data-bucket-1/Data/AI%20Scholars/Sessions%206%20-%2010%20(Projects)/Project%20-%20Music%20Recommendation/spotify_data_timbre.csv\n",
            "Resolving storage.googleapis.com (storage.googleapis.com)... 108.177.125.128, 142.250.157.128, 142.251.8.128, ...\n",
            "Connecting to storage.googleapis.com (storage.googleapis.com)|108.177.125.128|:443... connected.\n",
            "HTTP request sent, awaiting response... 200 OK\n",
            "Length: 28645820 (27M) [application/vnd.ms-excel]\n",
            "Saving to: ‘./spotify_data_timbre.csv’\n",
            "\n",
            "./spotify_data_timb 100%[===================>]  27.32M  15.8MB/s    in 1.7s    \n",
            "\n",
            "2023-06-29 15:10:20 (15.8 MB/s) - ‘./spotify_data_timbre.csv’ saved [28645820/28645820]\n",
            "\n",
            "FINISHED --2023-06-29 15:10:20--\n",
            "Total wall clock time: 2.1s\n",
            "Downloaded: 1 files, 27M in 1.7s (15.8 MB/s)\n",
            "--2023-06-29 15:10:20--  http://=/\n",
            "Resolving = (=)... failed: Name or service not known.\n",
            "wget: unable to resolve host address ‘=’\n",
            "--2023-06-29 15:10:20--  https://storage.googleapis.com/inspirit-ai-data-bucket-1/Data/AI%20Scholars/Sessions%206%20-%2010%20(Projects)/Project%20-%20Music%20Recommendation/chirp.wav\n",
            "Resolving storage.googleapis.com (storage.googleapis.com)... 108.177.125.128, 142.250.157.128, 142.251.8.128, ...\n",
            "Connecting to storage.googleapis.com (storage.googleapis.com)|108.177.125.128|:443... connected.\n",
            "HTTP request sent, awaiting response... 200 OK\n",
            "Length: 3528044 (3.4M) [audio/wav]\n",
            "Saving to: ‘./chirp.csv’\n",
            "\n",
            "./chirp.csv         100%[===================>]   3.36M  4.93MB/s    in 0.7s    \n",
            "\n",
            "2023-06-29 15:10:21 (4.93 MB/s) - ‘./chirp.csv’ saved [3528044/3528044]\n",
            "\n",
            "FINISHED --2023-06-29 15:10:21--\n",
            "Total wall clock time: 0.9s\n",
            "Downloaded: 1 files, 3.4M in 0.7s (4.93 MB/s)\n",
            "--2023-06-29 15:10:21--  http://=/\n",
            "Resolving = (=)... failed: Name or service not known.\n",
            "wget: unable to resolve host address ‘=’\n",
            "--2023-06-29 15:10:21--  https://storage.googleapis.com/inspirit-ai-data-bucket-1/Data/AI%20Scholars/Sessions%206%20-%2010%20(Projects)/Project%20-%20Music%20Recommendation/track_3504.wav\n",
            "Resolving storage.googleapis.com (storage.googleapis.com)... 108.177.125.128, 142.250.157.128, 142.251.8.128, ...\n",
            "Connecting to storage.googleapis.com (storage.googleapis.com)|108.177.125.128|:443... connected.\n",
            "HTTP request sent, awaiting response... 200 OK\n",
            "Length: 5292082 (5.0M) [audio/wav]\n",
            "Saving to: ‘./wav1_path.csv’\n",
            "\n",
            "./wav1_path.csv     100%[===================>]   5.05M  5.30MB/s    in 1.0s    \n",
            "\n",
            "2023-06-29 15:10:22 (5.30 MB/s) - ‘./wav1_path.csv’ saved [5292082/5292082]\n",
            "\n",
            "FINISHED --2023-06-29 15:10:22--\n",
            "Total wall clock time: 1.2s\n",
            "Downloaded: 1 files, 5.0M in 1.0s (5.30 MB/s)\n",
            "--2023-06-29 15:10:22--  http://=/\n",
            "Resolving = (=)... failed: Name or service not known.\n",
            "wget: unable to resolve host address ‘=’\n",
            "--2023-06-29 15:10:22--  https://storage.googleapis.com/inspirit-ai-data-bucket-1/Data/AI%20Scholars/Sessions%206%20-%2010%20(Projects)/Project%20-%20Music%20Recommendation/track_3642.wav\n",
            "Resolving storage.googleapis.com (storage.googleapis.com)... 108.177.125.128, 142.250.157.128, 142.251.8.128, ...\n",
            "Connecting to storage.googleapis.com (storage.googleapis.com)|108.177.125.128|:443... connected.\n",
            "HTTP request sent, awaiting response... 200 OK\n",
            "Length: 5292078 (5.0M) [audio/wav]\n",
            "Saving to: ‘./wav2_path.csv’\n",
            "\n",
            "./wav2_path.csv     100%[===================>]   5.05M  5.40MB/s    in 0.9s    \n",
            "\n",
            "2023-06-29 15:10:23 (5.40 MB/s) - ‘./wav2_path.csv’ saved [5292078/5292078]\n",
            "\n",
            "FINISHED --2023-06-29 15:10:23--\n",
            "Total wall clock time: 1.2s\n",
            "Downloaded: 1 files, 5.0M in 0.9s (5.40 MB/s)\n"
          ]
        }
      ]
    },
    {
      "cell_type": "markdown",
      "metadata": {
        "id": "JuUV7zw4jZA3"
      },
      "source": [
        "## Outline of notebook\n",
        "Here's what we're going to cover today:\n",
        "1. Explore some more audio information from Spotify.\n",
        "2. Machine learning on the timbre timecourses\n",
        "3. Recurrent Neural Networks (RNNs)\n"
      ]
    },
    {
      "cell_type": "markdown",
      "metadata": {
        "id": "2NQoKutZEBRq"
      },
      "source": [
        "## More audio information\n",
        "In previous notebooks, we've been considering some pretty abstract features of the songs we're working with, such as **danceability** and **instrumentalness**. While these properties are interesting for sure, they are just single values, so they don't tell you how the music is **changing** over time. For example, a song may be pretty high on the danceability scale, but the beat might only come in part way through after a slower intro.\n",
        "\n",
        "To get a better feel of our new representation of music, let's take a look at a demo! [Click here to check it out!](https://musiclab.chromeexperiments.com/spectrogram/)\n",
        "\n"
      ]
    },
    {
      "cell_type": "code",
      "metadata": {
        "id": "7Abhh-XVEgdY",
        "cellView": "form",
        "colab": {
          "base_uri": "https://localhost:8080/"
        },
        "outputId": "4629e528-3101-4c6a-ec32-2c54bb9584ea"
      },
      "source": [
        "#@title What other things might the features we've been looking at **not** capture?\n",
        "your_answer = ''  #@param {type:\"string\"}\n",
        "print(your_answer)"
      ],
      "execution_count": null,
      "outputs": [
        {
          "output_type": "stream",
          "name": "stdout",
          "text": [
            "\n"
          ]
        }
      ]
    },
    {
      "cell_type": "markdown",
      "metadata": {
        "id": "lYKg9zHoFxAs"
      },
      "source": [
        "Luckily for us, Spotify has done the hard work and given us twelve **timbre components** which are derived using machine learning from a huge number of audio files. These can be accessed using Spotipy.\n",
        "\n",
        "For reference, the **timbre** of a sound is its specific quality or characteristic beyond its pitch or pitches.\n",
        "\n",
        "Here are a couple of videos that explain and demonstrate timbre in a bit more detail."
      ]
    },
    {
      "cell_type": "code",
      "metadata": {
        "id": "QfamUlB-iU_M",
        "cellView": "form",
        "colab": {
          "base_uri": "https://localhost:8080/",
          "height": 321
        },
        "outputId": "1751e7bb-7089-4622-c155-6bb55a6843c7"
      },
      "source": [
        "#@markdown  Video 1:\n",
        "from IPython.display import YouTubeVideo\n",
        "YouTubeVideo('AjJLAcDb_MU')"
      ],
      "execution_count": null,
      "outputs": [
        {
          "output_type": "execute_result",
          "data": {
            "text/plain": [
              "<IPython.lib.display.YouTubeVideo at 0x7f15002b14b0>"
            ],
            "text/html": [
              "\n",
              "        <iframe\n",
              "            width=\"400\"\n",
              "            height=\"300\"\n",
              "            src=\"https://www.youtube.com/embed/AjJLAcDb_MU\"\n",
              "            frameborder=\"0\"\n",
              "            allowfullscreen\n",
              "            \n",
              "        ></iframe>\n",
              "        "
            ],
            "image/jpeg": "[encoded data removed]"
          },
          "metadata": {},
          "execution_count": 3
        }
      ]
    },
    {
      "cell_type": "code",
      "metadata": {
        "cellView": "form",
        "id": "6EF776jnjIMB",
        "colab": {
          "base_uri": "https://localhost:8080/",
          "height": 321
        },
        "outputId": "50d8857d-d6ac-4695-9215-3406e175c4c1"
      },
      "source": [
        "#@markdown Video 2:\n",
        "YouTubeVideo('VRAXK4QKJ1Q')"
      ],
      "execution_count": null,
      "outputs": [
        {
          "output_type": "execute_result",
          "data": {
            "text/plain": [
              "<IPython.lib.display.YouTubeVideo at 0x7f15002b3a30>"
            ],
            "text/html": [
              "\n",
              "        <iframe\n",
              "            width=\"400\"\n",
              "            height=\"300\"\n",
              "            src=\"https://www.youtube.com/embed/VRAXK4QKJ1Q\"\n",
              "            frameborder=\"0\"\n",
              "            allowfullscreen\n",
              "            \n",
              "        ></iframe>\n",
              "        "
            ],
            "image/jpeg": "[encoded data removed]"
          },
          "metadata": {},
          "execution_count": 4
        }
      ]
    },
    {
      "cell_type": "markdown",
      "metadata": {
        "id": "kROy_JNEiqpE"
      },
      "source": [
        "Here's what the timbre components look like:\n",
        "\n",
        "![timbre basis components](https://drive.google.com/uc?id=1oRc5W4Rc_iwTZ3GpiIrWqswiPTpkfWkx)\n",
        "\n",
        "It's a little tricky to intepret what they represent, but you can think of them as showing different ways in which the strength of sounds at particular **frequencies** or pitches changes over time. The brighter the colour on the plot, the louder the sound, and the higher up that patch is on the plot, the higher the pitch of the sound that's loud.\n",
        "\n",
        "So for instance, if a high-pitched flute comes in really loudly part way through a track, you might have a higher value for one of the components that has a lot of loud high frequencies at that point in time. Like component 7 which has a band of bright yellow at the top.\n",
        "\n",
        "*In later (optional) sections of this notebook, we'll explore a few ways that we might generate some of our own timbre components.*"
      ]
    },
    {
      "cell_type": "code",
      "metadata": {
        "id": "BvweLhpZHMG0",
        "cellView": "form",
        "colab": {
          "base_uri": "https://localhost:8080/"
        },
        "outputId": "be1028a7-43c2-4a46-a94a-52ab687707c3"
      },
      "source": [
        "#@title Which component from the ones above might tell you whether there's a loud **low-pitched** instrument at a particular point in the track?\n",
        "your_answer = '2' #@param {type:\"string\"}\n",
        "print(your_answer)"
      ],
      "execution_count": null,
      "outputs": [
        {
          "output_type": "stream",
          "name": "stdout",
          "text": [
            "2\n"
          ]
        }
      ]
    },
    {
      "cell_type": "markdown",
      "metadata": {
        "id": "Yu1xYdMEH7a7"
      },
      "source": [
        "Now, let's take a look at our timbre data, which is stored in a `pandas` dataframe called `data`. In the code cell below, **write a line that displays the first ten rows of the table**."
      ]
    },
    {
      "cell_type": "code",
      "metadata": {
        "id": "QbRuWocRITHD",
        "colab": {
          "base_uri": "https://localhost:8080/",
          "height": 878
        },
        "outputId": "55327316-b899-41ed-ee41-3f646d55287f"
      },
      "source": [
        "### YOUR CODE HERE\n",
        "data.head(10)"
      ],
      "execution_count": null,
      "outputs": [
        {
          "output_type": "execute_result",
          "data": {
            "text/plain": [
              "   orig_index                     Artist                      Track  Year  \\\n",
              "0           0  intonation featuring joee          died in your arms  2009   \n",
              "1           1               jack johnson                    monsoon  2008   \n",
              "2           2        kapelle herrenweide                     humppa  2009   \n",
              "3           3                  2 minutos                rompan todo  2007   \n",
              "4           4          sonora carruseles          la chola caderona  2015   \n",
              "5           5                eddie money    heaven in the back seat  1991   \n",
              "6           6            ying yang twins    whistle while you twurk  2000   \n",
              "7           7                      spunk                    marbles  2005   \n",
              "8           8                    nirvana                    lithium  1991   \n",
              "9           9                        us3  cantaloop (flip fantasia)  1993   \n",
              "\n",
              "                                                 url  Label  duration  \\\n",
              "0  https://open.spotify.com/track/0AAMVuVqJnW4PVZ...      1   280.160   \n",
              "1  https://open.spotify.com/track/7s4qhv3Txiv4oFW...      0   256.813   \n",
              "2  https://open.spotify.com/track/7kZQxHjiHHf6Kqy...      0   258.346   \n",
              "3  https://open.spotify.com/track/4RrFTURDPtSQcbZ...      0    88.586   \n",
              "4  https://open.spotify.com/track/4lFHxhQGDhRbfYe...      0   295.306   \n",
              "5  https://open.spotify.com/track/0ZUAwAOJJKtNnkW...      1   243.226   \n",
              "6  https://open.spotify.com/track/1LMAQunVS6Dq8wE...      1   265.440   \n",
              "7  https://open.spotify.com/track/4JoALVS1WdauY3M...      0   139.706   \n",
              "8  https://open.spotify.com/track/2YodwKJnbPyNKe8...      1   257.053   \n",
              "9  https://open.spotify.com/track/2AnTuxahfcAS7dG...      1   279.360   \n",
              "\n",
              "                                            timbre_1  \\\n",
              "0  [0.0, 31.93096608872048, 35.389407422975076, 3...   \n",
              "1  [2.998, 19.65953469052869, 12.744096217650963,...   \n",
              "2  [1.651, 43.63666528403967, 44.80971266769758, ...   \n",
              "3  [1.093, 51.130689943510035, 52.74655313008504,...   \n",
              "4  [0.0, 38.675149685878175, 50.917856753023614, ...   \n",
              "5  [0.0, 42.815268714011516, 42.68828631587391, 4...   \n",
              "6  [0.0, 44.598731578947366, 36.570146161461615, ...   \n",
              "7  [12.455, 23.330240113603224, 28.38976769661853...   \n",
              "8  [0.0, 20.670608940797422, 24.285887066487835, ...   \n",
              "9  [0.0, 37.63879316946167, 38.30474904612089, 27...   \n",
              "\n",
              "                                            timbre_2  \\\n",
              "0  [171.13, 79.98731220576416, 75.74027308646127,...   \n",
              "1  [103.425, -202.65228065227424, -75.61390510948...   \n",
              "2  [153.244, 58.93194517583409, 55.15626104400886...   \n",
              "3  [156.545, 52.262964861328314, 33.7868968714500...   \n",
              "4  [171.13, -47.33685659655833, 61.13510342620351...   \n",
              "5  [171.13, 68.85326007677543, 69.41887799791449,...   \n",
              "6  [171.13, 75.1879947368421, 96.52906498064979, ...   \n",
              "7  [109.078, 76.15559301898035, 88.23417703591942...   \n",
              "8  [171.13, -119.50015988723317, -50.632461927572...   \n",
              "9  [171.13, 33.61372769737346, 38.90971089095655,...   \n",
              "\n",
              "                                            timbre_3  \\\n",
              "0  [9.469, 123.5155301412332, 114.41647005170022,...   \n",
              "1  [-58.005, -124.09351766576073, -123.3319800928...   \n",
              "2  [20.856, -27.760677006311994, -0.9223222719103...   \n",
              "3  [25.101, 66.05149538824881, 24.51923926192011,...   \n",
              "4  [9.469, -8.687915596831491, 5.171144089209324,...   \n",
              "5  [9.469, 5.577371401151631, -30.08793895885136,...   \n",
              "6  [9.469, 4.362026315789471, -23.34013977139776,...   \n",
              "7  [74.126, 166.92390732969025, 219.8159715865147...   \n",
              "8  [9.469, -149.063661699557, -108.8495822954589,...   \n",
              "9  [9.469, 24.497907267018917, 3.350283954749301,...   \n",
              "\n",
              "                                            timbre_4  \\\n",
              "0  [-28.48, -14.00211562751177, 11.83176659240889...   \n",
              "1  [-58.624, -57.981803958771344, 7.4363185136031...   \n",
              "2  [-68.876, 71.00899765554554, 61.50337614410497...   \n",
              "3  [-54.729, -50.21109504356429, -9.7744942740474...   \n",
              "4  [-28.48, 103.47913602840754, -7.81937721928369...   \n",
              "5  [-28.48, -72.75312188099808, 80.72439871260126...   \n",
              "6  [-28.48, -8.151852631578947, 17.14639582395833...   \n",
              "7  [-59.407, -43.64688506548668, -45.140463186722...   \n",
              "8  [-28.48, -40.8459987917841, 15.491252768729645...   \n",
              "9  [-28.48, -94.65466881078183, -20.2427579489925...   \n",
              "\n",
              "                                            timbre_5  \\\n",
              "0  [57.491, 99.35745707505646, 90.77753852297087,...   \n",
              "1  [37.678, 86.39224106456079, 68.92994625082946,...   \n",
              "2  [46.952, 6.437235166816954, -6.601664479458352...   \n",
              "3  [56.904, 0.10991896722305494, -25.195918117343...   \n",
              "4  [57.491, 9.400311663479915, -6.473240844928036...   \n",
              "5  [57.491, 45.380146833013434, 39.59518558995749...   \n",
              "6  [57.491, 45.187668421052635, 23.21723985239849...   \n",
              "7  [72.638, 69.99988618123264, 69.39953877851174,...   \n",
              "8  [57.491, -2.9407221103503858, -16.261901628664...   \n",
              "9  [57.491, 79.6624909257983, 95.29033107972421, ...   \n",
              "\n",
              "                                            timbre_6  \\\n",
              "0  [-50.067, 25.58930474222069, -10.5464018326257...   \n",
              "1  [-46.392, -52.425471052766525, -51.88967551426...   \n",
              "2  [-61.662, 51.948587015329124, 15.9049562419024...   \n",
              "3  [-60.126, -11.785241311077778, -16.25799591661...   \n",
              "4  [-50.067, -75.22705845397432, -6.7019374389381...   \n",
              "5  [-50.067, 122.7927792706334, -54.1920376393679...   \n",
              "6  [-50.067, 53.733357894736834, 0.08237719377189...   \n",
              "7  [64.493, -19.54564365863245, -19.5431078723485...   \n",
              "8  [-50.067, -54.67501127668143, 112.158654301590...   \n",
              "9  [-50.067, 57.27085129029788, 46.65450893634112...   \n",
              "\n",
              "                                            timbre_7  \\\n",
              "0  [14.833, -30.858398706319136, -42.033517170358...   \n",
              "1  [-9.681, -13.297634685400748, -26.091938287989...   \n",
              "2  [30.292, 30.001814247069433, 25.23144305596188...   \n",
              "3  [26.202, 31.08373092266939, 32.918958030149525...   \n",
              "4  [14.833, -46.940350996995335, 1.90458376848699...   \n",
              "5  [14.833, 28.58273512476008, -12.70832644180637...   \n",
              "6  [14.833, -2.906142105263161, -28.9334548645486...   \n",
              "7  [63.806, 110.68863436497571, 116.1957282271050...   \n",
              "8  [14.833, -13.255112766814342, 3.19299639777734...   \n",
              "9  [14.833, -40.16259690634811, -22.7803233148135...   \n",
              "\n",
              "                                            timbre_8  \\\n",
              "0  [5.359, -11.803781528686798, -10.8885563028035...   \n",
              "1  [1.02, 29.404950515358188, 106.34929794293298,...   \n",
              "2  [-28.44, -19.782593507664565, -18.267860241568...   \n",
              "3  [-25.347, 24.86705913892701, 10.52566178502349...   \n",
              "4  [5.359, -7.027439770554484, 15.520397466563324...   \n",
              "5  [5.359, 24.03613915547025, -39.228890490895964...   \n",
              "6  [5.359, 36.41876842105263, -15.007422104221035...   \n",
              "7  [5.294, -2.763526175653915, 46.07635159944721,...   \n",
              "8  [5.359, -12.876759565042292, -19.5517612186242...   \n",
              "9  [5.359, 59.93534581514663, -45.047065466229334...   \n",
              "\n",
              "                                            timbre_9  \\\n",
              "0  [-27.228, -25.220395644352585, -25.79008238409...   \n",
              "1  [-33.359, -19.202246192502948, -5.323623092236...   \n",
              "2  [-29.136, -43.0516872858431, -39.7837204831362...   \n",
              "3  [-30.721, -14.403229598187213, -14.19191108654...   \n",
              "4  [-27.228, -21.236274515159792, -7.974969140585...   \n",
              "5  [-27.228, 25.85997792706334, -5.45933702975856...   \n",
              "6  [-27.228, -32.673078947368424, -48.84153577535...   \n",
              "7  [-7.48, 14.617953912084289, 17.588627543710615...   \n",
              "8  [-27.228, 0.7170950463149381, -13.308243188350...   \n",
              "9  [-27.228, 4.846622865456766, 3.725285427404779...   \n",
              "\n",
              "                                           timbre_10  \\\n",
              "0  [0.973, 6.293402572051898, -9.005808583077636,...   \n",
              "1  [2.376, -3.9448509820009234, -5.94654147312540...   \n",
              "2  [1.536, 20.711096302975655, -9.602437706356834...   \n",
              "3  [-4.711, 8.364651230332237, 6.013853673513248,...   \n",
              "4  [0.973, -0.2617473367932267, 3.847741737694988...   \n",
              "5  [0.973, 6.2835345489443375, 18.893797846314268...   \n",
              "6  [0.973, -6.206231578947368, 1.018455044550418,...   \n",
              "7  [46.909, 16.53850381001889, 2.854133128779903,...   \n",
              "8  [0.973, 14.722583568264202, 2.776923586894032,...   \n",
              "9  [0.973, 4.655326364959032, 4.5225566637659895,...   \n",
              "\n",
              "                                           timbre_11  \\\n",
              "0  [-10.64, 14.310292379530752, -1.31420772561052...   \n",
              "1  [-5.873, -5.535454386954515, 4.142536828135369...   \n",
              "2  [16.413, -22.591161226330026, -17.839150666610...   \n",
              "3  [13.125, -10.645196151022883, 2.13488366952197...   \n",
              "4  [-10.64, -17.457464354001633, 12.9524641040325...   \n",
              "5  [-10.64, 83.30511996161228, -36.7258753308735,...   \n",
              "6  [-10.64, 10.52672105263158, -42.63501476014759...   \n",
              "7  [13.381, -20.438328612544534, -7.1387634998922...   \n",
              "8  [-10.64, -15.31901490132904, -41.4828450661046...   \n",
              "9  [-10.64, 10.99641932766674, -36.54559850056898...   \n",
              "\n",
              "                                           timbre_12  \n",
              "0  [-7.228, -0.02460263329123258, 8.5397953427766...  \n",
              "1  [-0.558, 6.421904312599354, -3.052210351692103...  \n",
              "2  [-8.823, 19.360109107303877, 14.08162067956701...  \n",
              "3  [-10.526, -1.9825545910062878, -0.156492094194...  \n",
              "4  [-7.228, 2.9048615132477447, 18.35614995115049...  \n",
              "5  [-7.228, -9.72517274472169, 17.77945963343226,...  \n",
              "6  [-7.228, -17.00627894736842, 18.79282278822785...  \n",
              "7  [14.981, -2.144525516349483, -15.9056037326774...  \n",
              "8  [-7.228, -16.149354007249293, -23.614995133167...  \n",
              "9  [-7.228, -6.551263649590321, -2.72325510408996...  "
            ],
            "text/html": [
              "\n",
              "  <div id=\"df-01904f31-3163-405c-b9a5-d3542fe08d9c\">\n",
              "    <div class=\"colab-df-container\">\n",
              "      <div>\n",
              "<style scoped>\n",
              "    .dataframe tbody tr th:only-of-type {\n",
              "        vertical-align: middle;\n",
              "    }\n",
              "\n",
              "    .dataframe tbody tr th {\n",
              "        vertical-align: top;\n",
              "    }\n",
              "\n",
              "    .dataframe thead th {\n",
              "        text-align: right;\n",
              "    }\n",
              "</style>\n",
              "<table border=\"1\" class=\"dataframe\">\n",
              "  <thead>\n",
              "    <tr style=\"text-align: right;\">\n",
              "      <th></th>\n",
              "      <th>orig_index</th>\n",
              "      <th>Artist</th>\n",
              "      <th>Track</th>\n",
              "      <th>Year</th>\n",
              "      <th>url</th>\n",
              "      <th>Label</th>\n",
              "      <th>duration</th>\n",
              "      <th>timbre_1</th>\n",
              "      <th>timbre_2</th>\n",
              "      <th>timbre_3</th>\n",
              "      <th>timbre_4</th>\n",
              "      <th>timbre_5</th>\n",
              "      <th>timbre_6</th>\n",
              "      <th>timbre_7</th>\n",
              "      <th>timbre_8</th>\n",
              "      <th>timbre_9</th>\n",
              "      <th>timbre_10</th>\n",
              "      <th>timbre_11</th>\n",
              "      <th>timbre_12</th>\n",
              "    </tr>\n",
              "  </thead>\n",
              "  <tbody>\n",
              "    <tr>\n",
              "      <th>0</th>\n",
              "      <td>0</td>\n",
              "      <td>intonation featuring joee</td>\n",
              "      <td>died in your arms</td>\n",
              "      <td>2009</td>\n",
              "      <td>https://open.spotify.com/track/0AAMVuVqJnW4PVZ...</td>\n",
              "      <td>1</td>\n",
              "      <td>280.160</td>\n",
              "      <td>[0.0, 31.93096608872048, 35.389407422975076, 3...</td>\n",
              "      <td>[171.13, 79.98731220576416, 75.74027308646127,...</td>\n",
              "      <td>[9.469, 123.5155301412332, 114.41647005170022,...</td>\n",
              "      <td>[-28.48, -14.00211562751177, 11.83176659240889...</td>\n",
              "      <td>[57.491, 99.35745707505646, 90.77753852297087,...</td>\n",
              "      <td>[-50.067, 25.58930474222069, -10.5464018326257...</td>\n",
              "      <td>[14.833, -30.858398706319136, -42.033517170358...</td>\n",
              "      <td>[5.359, -11.803781528686798, -10.8885563028035...</td>\n",
              "      <td>[-27.228, -25.220395644352585, -25.79008238409...</td>\n",
              "      <td>[0.973, 6.293402572051898, -9.005808583077636,...</td>\n",
              "      <td>[-10.64, 14.310292379530752, -1.31420772561052...</td>\n",
              "      <td>[-7.228, -0.02460263329123258, 8.5397953427766...</td>\n",
              "    </tr>\n",
              "    <tr>\n",
              "      <th>1</th>\n",
              "      <td>1</td>\n",
              "      <td>jack johnson</td>\n",
              "      <td>monsoon</td>\n",
              "      <td>2008</td>\n",
              "      <td>https://open.spotify.com/track/7s4qhv3Txiv4oFW...</td>\n",
              "      <td>0</td>\n",
              "      <td>256.813</td>\n",
              "      <td>[2.998, 19.65953469052869, 12.744096217650963,...</td>\n",
              "      <td>[103.425, -202.65228065227424, -75.61390510948...</td>\n",
              "      <td>[-58.005, -124.09351766576073, -123.3319800928...</td>\n",
              "      <td>[-58.624, -57.981803958771344, 7.4363185136031...</td>\n",
              "      <td>[37.678, 86.39224106456079, 68.92994625082946,...</td>\n",
              "      <td>[-46.392, -52.425471052766525, -51.88967551426...</td>\n",
              "      <td>[-9.681, -13.297634685400748, -26.091938287989...</td>\n",
              "      <td>[1.02, 29.404950515358188, 106.34929794293298,...</td>\n",
              "      <td>[-33.359, -19.202246192502948, -5.323623092236...</td>\n",
              "      <td>[2.376, -3.9448509820009234, -5.94654147312540...</td>\n",
              "      <td>[-5.873, -5.535454386954515, 4.142536828135369...</td>\n",
              "      <td>[-0.558, 6.421904312599354, -3.052210351692103...</td>\n",
              "    </tr>\n",
              "    <tr>\n",
              "      <th>2</th>\n",
              "      <td>2</td>\n",
              "      <td>kapelle herrenweide</td>\n",
              "      <td>humppa</td>\n",
              "      <td>2009</td>\n",
              "      <td>https://open.spotify.com/track/7kZQxHjiHHf6Kqy...</td>\n",
              "      <td>0</td>\n",
              "      <td>258.346</td>\n",
              "      <td>[1.651, 43.63666528403967, 44.80971266769758, ...</td>\n",
              "      <td>[153.244, 58.93194517583409, 55.15626104400886...</td>\n",
              "      <td>[20.856, -27.760677006311994, -0.9223222719103...</td>\n",
              "      <td>[-68.876, 71.00899765554554, 61.50337614410497...</td>\n",
              "      <td>[46.952, 6.437235166816954, -6.601664479458352...</td>\n",
              "      <td>[-61.662, 51.948587015329124, 15.9049562419024...</td>\n",
              "      <td>[30.292, 30.001814247069433, 25.23144305596188...</td>\n",
              "      <td>[-28.44, -19.782593507664565, -18.267860241568...</td>\n",
              "      <td>[-29.136, -43.0516872858431, -39.7837204831362...</td>\n",
              "      <td>[1.536, 20.711096302975655, -9.602437706356834...</td>\n",
              "      <td>[16.413, -22.591161226330026, -17.839150666610...</td>\n",
              "      <td>[-8.823, 19.360109107303877, 14.08162067956701...</td>\n",
              "    </tr>\n",
              "    <tr>\n",
              "      <th>3</th>\n",
              "      <td>3</td>\n",
              "      <td>2 minutos</td>\n",
              "      <td>rompan todo</td>\n",
              "      <td>2007</td>\n",
              "      <td>https://open.spotify.com/track/4RrFTURDPtSQcbZ...</td>\n",
              "      <td>0</td>\n",
              "      <td>88.586</td>\n",
              "      <td>[1.093, 51.130689943510035, 52.74655313008504,...</td>\n",
              "      <td>[156.545, 52.262964861328314, 33.7868968714500...</td>\n",
              "      <td>[25.101, 66.05149538824881, 24.51923926192011,...</td>\n",
              "      <td>[-54.729, -50.21109504356429, -9.7744942740474...</td>\n",
              "      <td>[56.904, 0.10991896722305494, -25.195918117343...</td>\n",
              "      <td>[-60.126, -11.785241311077778, -16.25799591661...</td>\n",
              "      <td>[26.202, 31.08373092266939, 32.918958030149525...</td>\n",
              "      <td>[-25.347, 24.86705913892701, 10.52566178502349...</td>\n",
              "      <td>[-30.721, -14.403229598187213, -14.19191108654...</td>\n",
              "      <td>[-4.711, 8.364651230332237, 6.013853673513248,...</td>\n",
              "      <td>[13.125, -10.645196151022883, 2.13488366952197...</td>\n",
              "      <td>[-10.526, -1.9825545910062878, -0.156492094194...</td>\n",
              "    </tr>\n",
              "    <tr>\n",
              "      <th>4</th>\n",
              "      <td>4</td>\n",
              "      <td>sonora carruseles</td>\n",
              "      <td>la chola caderona</td>\n",
              "      <td>2015</td>\n",
              "      <td>https://open.spotify.com/track/4lFHxhQGDhRbfYe...</td>\n",
              "      <td>0</td>\n",
              "      <td>295.306</td>\n",
              "      <td>[0.0, 38.675149685878175, 50.917856753023614, ...</td>\n",
              "      <td>[171.13, -47.33685659655833, 61.13510342620351...</td>\n",
              "      <td>[9.469, -8.687915596831491, 5.171144089209324,...</td>\n",
              "      <td>[-28.48, 103.47913602840754, -7.81937721928369...</td>\n",
              "      <td>[57.491, 9.400311663479915, -6.473240844928036...</td>\n",
              "      <td>[-50.067, -75.22705845397432, -6.7019374389381...</td>\n",
              "      <td>[14.833, -46.940350996995335, 1.90458376848699...</td>\n",
              "      <td>[5.359, -7.027439770554484, 15.520397466563324...</td>\n",
              "      <td>[-27.228, -21.236274515159792, -7.974969140585...</td>\n",
              "      <td>[0.973, -0.2617473367932267, 3.847741737694988...</td>\n",
              "      <td>[-10.64, -17.457464354001633, 12.9524641040325...</td>\n",
              "      <td>[-7.228, 2.9048615132477447, 18.35614995115049...</td>\n",
              "    </tr>\n",
              "    <tr>\n",
              "      <th>5</th>\n",
              "      <td>5</td>\n",
              "      <td>eddie money</td>\n",
              "      <td>heaven in the back seat</td>\n",
              "      <td>1991</td>\n",
              "      <td>https://open.spotify.com/track/0ZUAwAOJJKtNnkW...</td>\n",
              "      <td>1</td>\n",
              "      <td>243.226</td>\n",
              "      <td>[0.0, 42.815268714011516, 42.68828631587391, 4...</td>\n",
              "      <td>[171.13, 68.85326007677543, 69.41887799791449,...</td>\n",
              "      <td>[9.469, 5.577371401151631, -30.08793895885136,...</td>\n",
              "      <td>[-28.48, -72.75312188099808, 80.72439871260126...</td>\n",
              "      <td>[57.491, 45.380146833013434, 39.59518558995749...</td>\n",
              "      <td>[-50.067, 122.7927792706334, -54.1920376393679...</td>\n",
              "      <td>[14.833, 28.58273512476008, -12.70832644180637...</td>\n",
              "      <td>[5.359, 24.03613915547025, -39.228890490895964...</td>\n",
              "      <td>[-27.228, 25.85997792706334, -5.45933702975856...</td>\n",
              "      <td>[0.973, 6.2835345489443375, 18.893797846314268...</td>\n",
              "      <td>[-10.64, 83.30511996161228, -36.7258753308735,...</td>\n",
              "      <td>[-7.228, -9.72517274472169, 17.77945963343226,...</td>\n",
              "    </tr>\n",
              "    <tr>\n",
              "      <th>6</th>\n",
              "      <td>6</td>\n",
              "      <td>ying yang twins</td>\n",
              "      <td>whistle while you twurk</td>\n",
              "      <td>2000</td>\n",
              "      <td>https://open.spotify.com/track/1LMAQunVS6Dq8wE...</td>\n",
              "      <td>1</td>\n",
              "      <td>265.440</td>\n",
              "      <td>[0.0, 44.598731578947366, 36.570146161461615, ...</td>\n",
              "      <td>[171.13, 75.1879947368421, 96.52906498064979, ...</td>\n",
              "      <td>[9.469, 4.362026315789471, -23.34013977139776,...</td>\n",
              "      <td>[-28.48, -8.151852631578947, 17.14639582395833...</td>\n",
              "      <td>[57.491, 45.187668421052635, 23.21723985239849...</td>\n",
              "      <td>[-50.067, 53.733357894736834, 0.08237719377189...</td>\n",
              "      <td>[14.833, -2.906142105263161, -28.9334548645486...</td>\n",
              "      <td>[5.359, 36.41876842105263, -15.007422104221035...</td>\n",
              "      <td>[-27.228, -32.673078947368424, -48.84153577535...</td>\n",
              "      <td>[0.973, -6.206231578947368, 1.018455044550418,...</td>\n",
              "      <td>[-10.64, 10.52672105263158, -42.63501476014759...</td>\n",
              "      <td>[-7.228, -17.00627894736842, 18.79282278822785...</td>\n",
              "    </tr>\n",
              "    <tr>\n",
              "      <th>7</th>\n",
              "      <td>7</td>\n",
              "      <td>spunk</td>\n",
              "      <td>marbles</td>\n",
              "      <td>2005</td>\n",
              "      <td>https://open.spotify.com/track/4JoALVS1WdauY3M...</td>\n",
              "      <td>0</td>\n",
              "      <td>139.706</td>\n",
              "      <td>[12.455, 23.330240113603224, 28.38976769661853...</td>\n",
              "      <td>[109.078, 76.15559301898035, 88.23417703591942...</td>\n",
              "      <td>[74.126, 166.92390732969025, 219.8159715865147...</td>\n",
              "      <td>[-59.407, -43.64688506548668, -45.140463186722...</td>\n",
              "      <td>[72.638, 69.99988618123264, 69.39953877851174,...</td>\n",
              "      <td>[64.493, -19.54564365863245, -19.5431078723485...</td>\n",
              "      <td>[63.806, 110.68863436497571, 116.1957282271050...</td>\n",
              "      <td>[5.294, -2.763526175653915, 46.07635159944721,...</td>\n",
              "      <td>[-7.48, 14.617953912084289, 17.588627543710615...</td>\n",
              "      <td>[46.909, 16.53850381001889, 2.854133128779903,...</td>\n",
              "      <td>[13.381, -20.438328612544534, -7.1387634998922...</td>\n",
              "      <td>[14.981, -2.144525516349483, -15.9056037326774...</td>\n",
              "    </tr>\n",
              "    <tr>\n",
              "      <th>8</th>\n",
              "      <td>8</td>\n",
              "      <td>nirvana</td>\n",
              "      <td>lithium</td>\n",
              "      <td>1991</td>\n",
              "      <td>https://open.spotify.com/track/2YodwKJnbPyNKe8...</td>\n",
              "      <td>1</td>\n",
              "      <td>257.053</td>\n",
              "      <td>[0.0, 20.670608940797422, 24.285887066487835, ...</td>\n",
              "      <td>[171.13, -119.50015988723317, -50.632461927572...</td>\n",
              "      <td>[9.469, -149.063661699557, -108.8495822954589,...</td>\n",
              "      <td>[-28.48, -40.8459987917841, 15.491252768729645...</td>\n",
              "      <td>[57.491, -2.9407221103503858, -16.261901628664...</td>\n",
              "      <td>[-50.067, -54.67501127668143, 112.158654301590...</td>\n",
              "      <td>[14.833, -13.255112766814342, 3.19299639777734...</td>\n",
              "      <td>[5.359, -12.876759565042292, -19.5517612186242...</td>\n",
              "      <td>[-27.228, 0.7170950463149381, -13.308243188350...</td>\n",
              "      <td>[0.973, 14.722583568264202, 2.776923586894032,...</td>\n",
              "      <td>[-10.64, -15.31901490132904, -41.4828450661046...</td>\n",
              "      <td>[-7.228, -16.149354007249293, -23.614995133167...</td>\n",
              "    </tr>\n",
              "    <tr>\n",
              "      <th>9</th>\n",
              "      <td>9</td>\n",
              "      <td>us3</td>\n",
              "      <td>cantaloop (flip fantasia)</td>\n",
              "      <td>1993</td>\n",
              "      <td>https://open.spotify.com/track/2AnTuxahfcAS7dG...</td>\n",
              "      <td>1</td>\n",
              "      <td>279.360</td>\n",
              "      <td>[0.0, 37.63879316946167, 38.30474904612089, 27...</td>\n",
              "      <td>[171.13, 33.61372769737346, 38.90971089095655,...</td>\n",
              "      <td>[9.469, 24.497907267018917, 3.350283954749301,...</td>\n",
              "      <td>[-28.48, -94.65466881078183, -20.2427579489925...</td>\n",
              "      <td>[57.491, 79.6624909257983, 95.29033107972421, ...</td>\n",
              "      <td>[-50.067, 57.27085129029788, 46.65450893634112...</td>\n",
              "      <td>[14.833, -40.16259690634811, -22.7803233148135...</td>\n",
              "      <td>[5.359, 59.93534581514663, -45.047065466229334...</td>\n",
              "      <td>[-27.228, 4.846622865456766, 3.725285427404779...</td>\n",
              "      <td>[0.973, 4.655326364959032, 4.5225566637659895,...</td>\n",
              "      <td>[-10.64, 10.99641932766674, -36.54559850056898...</td>\n",
              "      <td>[-7.228, -6.551263649590321, -2.72325510408996...</td>\n",
              "    </tr>\n",
              "  </tbody>\n",
              "</table>\n",
              "</div>\n",
              "      <button class=\"colab-df-convert\" onclick=\"convertToInteractive('df-01904f31-3163-405c-b9a5-d3542fe08d9c')\"\n",
              "              title=\"Convert this dataframe to an interactive table.\"\n",
              "              style=\"display:none;\">\n",
              "        \n",
              "  <svg xmlns=\"http://www.w3.org/2000/svg\" height=\"24px\"viewBox=\"0 0 24 24\"\n",
              "       width=\"24px\">\n",
              "    <path d=\"M0 0h24v24H0V0z\" fill=\"none\"/>\n",
              "    <path d=\"M18.56 5.44l.94 2.06.94-2.06 2.06-.94-2.06-.94-.94-2.06-.94 2.06-2.06.94zm-11 1L8.5 8.5l.94-2.06 2.06-.94-2.06-.94L8.5 2.5l-.94 2.06-2.06.94zm10 10l.94 2.06.94-2.06 2.06-.94-2.06-.94-.94-2.06-.94 2.06-2.06.94z\"/><path d=\"M17.41 7.96l-1.37-1.37c-.4-.4-.92-.59-1.43-.59-.52 0-1.04.2-1.43.59L10.3 9.45l-7.72 7.72c-.78.78-.78 2.05 0 2.83L4 21.41c.39.39.9.59 1.41.59.51 0 1.02-.2 1.41-.59l7.78-7.78 2.81-2.81c.8-.78.8-2.07 0-2.86zM5.41 20L4 18.59l7.72-7.72 1.47 1.35L5.41 20z\"/>\n",
              "  </svg>\n",
              "      </button>\n",
              "      \n",
              "  <style>\n",
              "    .colab-df-container {\n",
              "      display:flex;\n",
              "      flex-wrap:wrap;\n",
              "      gap: 12px;\n",
              "    }\n",
              "\n",
              "    .colab-df-convert {\n",
              "      background-color: #E8F0FE;\n",
              "      border: none;\n",
              "      border-radius: 50%;\n",
              "      cursor: pointer;\n",
              "      display: none;\n",
              "      fill: #1967D2;\n",
              "      height: 32px;\n",
              "      padding: 0 0 0 0;\n",
              "      width: 32px;\n",
              "    }\n",
              "\n",
              "    .colab-df-convert:hover {\n",
              "      background-color: #E2EBFA;\n",
              "      box-shadow: 0px 1px 2px rgba(60, 64, 67, 0.3), 0px 1px 3px 1px rgba(60, 64, 67, 0.15);\n",
              "      fill: #174EA6;\n",
              "    }\n",
              "\n",
              "    [theme=dark] .colab-df-convert {\n",
              "      background-color: #3B4455;\n",
              "      fill: #D2E3FC;\n",
              "    }\n",
              "\n",
              "    [theme=dark] .colab-df-convert:hover {\n",
              "      background-color: #434B5C;\n",
              "      box-shadow: 0px 1px 3px 1px rgba(0, 0, 0, 0.15);\n",
              "      filter: drop-shadow(0px 1px 2px rgba(0, 0, 0, 0.3));\n",
              "      fill: #FFFFFF;\n",
              "    }\n",
              "  </style>\n",
              "\n",
              "      <script>\n",
              "        const buttonEl =\n",
              "          document.querySelector('#df-01904f31-3163-405c-b9a5-d3542fe08d9c button.colab-df-convert');\n",
              "        buttonEl.style.display =\n",
              "          google.colab.kernel.accessAllowed ? 'block' : 'none';\n",
              "\n",
              "        async function convertToInteractive(key) {\n",
              "          const element = document.querySelector('#df-01904f31-3163-405c-b9a5-d3542fe08d9c');\n",
              "          const dataTable =\n",
              "            await google.colab.kernel.invokeFunction('convertToInteractive',\n",
              "                                                     [key], {});\n",
              "          if (!dataTable) return;\n",
              "\n",
              "          const docLinkHtml = 'Like what you see? Visit the ' +\n",
              "            '<a target=\"_blank\" href=https://colab.research.google.com/notebooks/data_table.ipynb>data table notebook</a>'\n",
              "            + ' to learn more about interactive tables.';\n",
              "          element.innerHTML = '';\n",
              "          dataTable['output_type'] = 'display_data';\n",
              "          await google.colab.output.renderOutput(dataTable, element);\n",
              "          const docLink = document.createElement('div');\n",
              "          docLink.innerHTML = docLinkHtml;\n",
              "          element.appendChild(docLink);\n",
              "        }\n",
              "      </script>\n",
              "    </div>\n",
              "  </div>\n",
              "  "
            ]
          },
          "metadata": {},
          "execution_count": 6
        }
      ]
    },
    {
      "cell_type": "markdown",
      "metadata": {
        "id": "IqgTtrFmI3Tv"
      },
      "source": [
        "## Data Transformation\n",
        "Do you see that there are a bunch of columns called `timbre_1`, `timbre_2` etc.? The entries you see in these columns are basically lists of numbers showing us **how strong** each timbre component is over the first minute or so of each song. A higher value for a particular component means that it's more strongly represented at that point in time.\n",
        "\n",
        "We can use these pieces of information to do some machine learning!"
      ]
    },
    {
      "cell_type": "markdown",
      "metadata": {
        "id": "50x7zJ8kd3CF"
      },
      "source": [
        "One thing that's not super obvious from looking at the table is that the lists of numbers are currently formatted as **strings**. This isn't ideal: we need to convert them into the right format. Let's build a function called `string_to_list()` that helps us do this, and test it out on a sample string to see if it works.\n",
        "\n",
        "A few hints:\n",
        "1. There's a function called `.split()` which takes a character of your choice and stores the parts of the string separated by that character in a list.\n",
        "2. We need to make sure that the numbers aren't themselves stored as strings, but rather as **floats**.\n",
        "3. The square brackets are currently characters, and we don't want to include them when splitting up the string."
      ]
    },
    {
      "cell_type": "code",
      "metadata": {
        "id": "jUBKZZ3seVGt",
        "colab": {
          "base_uri": "https://localhost:8080/"
        },
        "outputId": "378cc98b-4faf-4f5a-8da0-062419d75456"
      },
      "source": [
        "def string_to_list(input_string):\n",
        "    output_list = []\n",
        "    new_list = []\n",
        "    #### YOUR CODE HERE ####\n",
        "    output_list = input_string[1:-1].split(', ')\n",
        "    for i in output_list:\n",
        "      new_list.append(float(i))\n",
        "    #### END CODE ####\n",
        "    return new_list\n",
        "\n",
        "# some tests to see if your code worked\n",
        "test_input = '[5, 12.3, 3.3, 9.7]'\n",
        "print(string_to_list(test_input))\n",
        "print(type(string_to_list(test_input)))"
      ],
      "execution_count": null,
      "outputs": [
        {
          "output_type": "stream",
          "name": "stdout",
          "text": [
            "[5.0, 12.3, 3.3, 9.7]\n",
            "<class 'list'>\n"
          ]
        }
      ]
    },
    {
      "cell_type": "markdown",
      "metadata": {
        "id": "XShwYyLULgB9"
      },
      "source": [
        "Now, we're going to apply this to each timbre column of the dataset, so that we replace the string with lists. There are 12 components, labelled `timbre_1` to `timbre_12`, so we can use a `for` loop to help us out. The code below achieves what we're after, so go ahead and take a look and then **run this cell**."
      ]
    },
    {
      "cell_type": "code",
      "metadata": {
        "id": "Mhb7vVojMEnO",
        "colab": {
          "base_uri": "https://localhost:8080/",
          "height": 478
        },
        "outputId": "37f6ba78-301a-45e2-8455-bf65e9a85c5e"
      },
      "source": [
        "for i in range(1,13): # note we need to go from 1 to 13 since range leaves out the last number\n",
        "    column = 'timbre_' + str(i)\n",
        "    if type(data[column][0]) == str: # this means that if we rerun the cell accidentally it won't break!\n",
        "        data[column] = data[column].apply(string_to_list)\n",
        "\n",
        "data.head()"
      ],
      "execution_count": null,
      "outputs": [
        {
          "output_type": "execute_result",
          "data": {
            "text/plain": [
              "   orig_index                     Artist              Track  Year  \\\n",
              "0           0  intonation featuring joee  died in your arms  2009   \n",
              "1           1               jack johnson            monsoon  2008   \n",
              "2           2        kapelle herrenweide             humppa  2009   \n",
              "3           3                  2 minutos        rompan todo  2007   \n",
              "4           4          sonora carruseles  la chola caderona  2015   \n",
              "\n",
              "                                                 url  Label  duration  \\\n",
              "0  https://open.spotify.com/track/0AAMVuVqJnW4PVZ...      1   280.160   \n",
              "1  https://open.spotify.com/track/7s4qhv3Txiv4oFW...      0   256.813   \n",
              "2  https://open.spotify.com/track/7kZQxHjiHHf6Kqy...      0   258.346   \n",
              "3  https://open.spotify.com/track/4RrFTURDPtSQcbZ...      0    88.586   \n",
              "4  https://open.spotify.com/track/4lFHxhQGDhRbfYe...      0   295.306   \n",
              "\n",
              "                                            timbre_1  \\\n",
              "0  [0.0, 31.93096608872048, 35.389407422975076, 3...   \n",
              "1  [2.998, 19.65953469052869, 12.744096217650963,...   \n",
              "2  [1.651, 43.63666528403967, 44.80971266769758, ...   \n",
              "3  [1.093, 51.130689943510035, 52.74655313008504,...   \n",
              "4  [0.0, 38.675149685878175, 50.917856753023614, ...   \n",
              "\n",
              "                                            timbre_2  \\\n",
              "0  [171.13, 79.98731220576416, 75.74027308646127,...   \n",
              "1  [103.425, -202.65228065227424, -75.61390510948...   \n",
              "2  [153.244, 58.93194517583409, 55.15626104400886...   \n",
              "3  [156.545, 52.262964861328314, 33.7868968714500...   \n",
              "4  [171.13, -47.33685659655833, 61.13510342620351...   \n",
              "\n",
              "                                            timbre_3  \\\n",
              "0  [9.469, 123.5155301412332, 114.41647005170022,...   \n",
              "1  [-58.005, -124.09351766576073, -123.3319800928...   \n",
              "2  [20.856, -27.760677006311994, -0.9223222719103...   \n",
              "3  [25.101, 66.05149538824881, 24.51923926192011,...   \n",
              "4  [9.469, -8.687915596831491, 5.171144089209324,...   \n",
              "\n",
              "                                            timbre_4  \\\n",
              "0  [-28.48, -14.00211562751177, 11.83176659240889...   \n",
              "1  [-58.624, -57.981803958771344, 7.4363185136031...   \n",
              "2  [-68.876, 71.00899765554554, 61.50337614410497...   \n",
              "3  [-54.729, -50.21109504356429, -9.7744942740474...   \n",
              "4  [-28.48, 103.47913602840754, -7.81937721928369...   \n",
              "\n",
              "                                            timbre_5  \\\n",
              "0  [57.491, 99.35745707505646, 90.77753852297087,...   \n",
              "1  [37.678, 86.39224106456079, 68.92994625082946,...   \n",
              "2  [46.952, 6.437235166816954, -6.601664479458352...   \n",
              "3  [56.904, 0.10991896722305494, -25.195918117343...   \n",
              "4  [57.491, 9.400311663479915, -6.473240844928036...   \n",
              "\n",
              "                                            timbre_6  \\\n",
              "0  [-50.067, 25.58930474222069, -10.5464018326257...   \n",
              "1  [-46.392, -52.425471052766525, -51.88967551426...   \n",
              "2  [-61.662, 51.948587015329124, 15.9049562419024...   \n",
              "3  [-60.126, -11.785241311077778, -16.25799591661...   \n",
              "4  [-50.067, -75.22705845397432, -6.7019374389381...   \n",
              "\n",
              "                                            timbre_7  \\\n",
              "0  [14.833, -30.858398706319136, -42.033517170358...   \n",
              "1  [-9.681, -13.297634685400748, -26.091938287989...   \n",
              "2  [30.292, 30.001814247069433, 25.23144305596188...   \n",
              "3  [26.202, 31.08373092266939, 32.918958030149525...   \n",
              "4  [14.833, -46.940350996995335, 1.90458376848699...   \n",
              "\n",
              "                                            timbre_8  \\\n",
              "0  [5.359, -11.803781528686798, -10.8885563028035...   \n",
              "1  [1.02, 29.404950515358188, 106.34929794293298,...   \n",
              "2  [-28.44, -19.782593507664565, -18.267860241568...   \n",
              "3  [-25.347, 24.86705913892701, 10.52566178502349...   \n",
              "4  [5.359, -7.027439770554484, 15.520397466563324...   \n",
              "\n",
              "                                            timbre_9  \\\n",
              "0  [-27.228, -25.220395644352585, -25.79008238409...   \n",
              "1  [-33.359, -19.202246192502948, -5.323623092236...   \n",
              "2  [-29.136, -43.0516872858431, -39.7837204831362...   \n",
              "3  [-30.721, -14.403229598187213, -14.19191108654...   \n",
              "4  [-27.228, -21.236274515159792, -7.974969140585...   \n",
              "\n",
              "                                           timbre_10  \\\n",
              "0  [0.973, 6.293402572051898, -9.005808583077636,...   \n",
              "1  [2.376, -3.9448509820009234, -5.94654147312540...   \n",
              "2  [1.536, 20.711096302975655, -9.602437706356834...   \n",
              "3  [-4.711, 8.364651230332237, 6.013853673513248,...   \n",
              "4  [0.973, -0.2617473367932267, 3.847741737694988...   \n",
              "\n",
              "                                           timbre_11  \\\n",
              "0  [-10.64, 14.310292379530752, -1.31420772561052...   \n",
              "1  [-5.873, -5.535454386954515, 4.142536828135369...   \n",
              "2  [16.413, -22.591161226330026, -17.839150666610...   \n",
              "3  [13.125, -10.645196151022883, 2.13488366952197...   \n",
              "4  [-10.64, -17.457464354001633, 12.9524641040325...   \n",
              "\n",
              "                                           timbre_12  \n",
              "0  [-7.228, -0.02460263329123258, 8.5397953427766...  \n",
              "1  [-0.558, 6.421904312599354, -3.052210351692103...  \n",
              "2  [-8.823, 19.360109107303877, 14.08162067956701...  \n",
              "3  [-10.526, -1.9825545910062878, -0.156492094194...  \n",
              "4  [-7.228, 2.9048615132477447, 18.35614995115049...  "
            ],
            "text/html": [
              "\n",
              "  <div id=\"df-330ab785-c5cf-41ba-856b-12ad18c4a68f\">\n",
              "    <div class=\"colab-df-container\">\n",
              "      <div>\n",
              "<style scoped>\n",
              "    .dataframe tbody tr th:only-of-type {\n",
              "        vertical-align: middle;\n",
              "    }\n",
              "\n",
              "    .dataframe tbody tr th {\n",
              "        vertical-align: top;\n",
              "    }\n",
              "\n",
              "    .dataframe thead th {\n",
              "        text-align: right;\n",
              "    }\n",
              "</style>\n",
              "<table border=\"1\" class=\"dataframe\">\n",
              "  <thead>\n",
              "    <tr style=\"text-align: right;\">\n",
              "      <th></th>\n",
              "      <th>orig_index</th>\n",
              "      <th>Artist</th>\n",
              "      <th>Track</th>\n",
              "      <th>Year</th>\n",
              "      <th>url</th>\n",
              "      <th>Label</th>\n",
              "      <th>duration</th>\n",
              "      <th>timbre_1</th>\n",
              "      <th>timbre_2</th>\n",
              "      <th>timbre_3</th>\n",
              "      <th>timbre_4</th>\n",
              "      <th>timbre_5</th>\n",
              "      <th>timbre_6</th>\n",
              "      <th>timbre_7</th>\n",
              "      <th>timbre_8</th>\n",
              "      <th>timbre_9</th>\n",
              "      <th>timbre_10</th>\n",
              "      <th>timbre_11</th>\n",
              "      <th>timbre_12</th>\n",
              "    </tr>\n",
              "  </thead>\n",
              "  <tbody>\n",
              "    <tr>\n",
              "      <th>0</th>\n",
              "      <td>0</td>\n",
              "      <td>intonation featuring joee</td>\n",
              "      <td>died in your arms</td>\n",
              "      <td>2009</td>\n",
              "      <td>https://open.spotify.com/track/0AAMVuVqJnW4PVZ...</td>\n",
              "      <td>1</td>\n",
              "      <td>280.160</td>\n",
              "      <td>[0.0, 31.93096608872048, 35.389407422975076, 3...</td>\n",
              "      <td>[171.13, 79.98731220576416, 75.74027308646127,...</td>\n",
              "      <td>[9.469, 123.5155301412332, 114.41647005170022,...</td>\n",
              "      <td>[-28.48, -14.00211562751177, 11.83176659240889...</td>\n",
              "      <td>[57.491, 99.35745707505646, 90.77753852297087,...</td>\n",
              "      <td>[-50.067, 25.58930474222069, -10.5464018326257...</td>\n",
              "      <td>[14.833, -30.858398706319136, -42.033517170358...</td>\n",
              "      <td>[5.359, -11.803781528686798, -10.8885563028035...</td>\n",
              "      <td>[-27.228, -25.220395644352585, -25.79008238409...</td>\n",
              "      <td>[0.973, 6.293402572051898, -9.005808583077636,...</td>\n",
              "      <td>[-10.64, 14.310292379530752, -1.31420772561052...</td>\n",
              "      <td>[-7.228, -0.02460263329123258, 8.5397953427766...</td>\n",
              "    </tr>\n",
              "    <tr>\n",
              "      <th>1</th>\n",
              "      <td>1</td>\n",
              "      <td>jack johnson</td>\n",
              "      <td>monsoon</td>\n",
              "      <td>2008</td>\n",
              "      <td>https://open.spotify.com/track/7s4qhv3Txiv4oFW...</td>\n",
              "      <td>0</td>\n",
              "      <td>256.813</td>\n",
              "      <td>[2.998, 19.65953469052869, 12.744096217650963,...</td>\n",
              "      <td>[103.425, -202.65228065227424, -75.61390510948...</td>\n",
              "      <td>[-58.005, -124.09351766576073, -123.3319800928...</td>\n",
              "      <td>[-58.624, -57.981803958771344, 7.4363185136031...</td>\n",
              "      <td>[37.678, 86.39224106456079, 68.92994625082946,...</td>\n",
              "      <td>[-46.392, -52.425471052766525, -51.88967551426...</td>\n",
              "      <td>[-9.681, -13.297634685400748, -26.091938287989...</td>\n",
              "      <td>[1.02, 29.404950515358188, 106.34929794293298,...</td>\n",
              "      <td>[-33.359, -19.202246192502948, -5.323623092236...</td>\n",
              "      <td>[2.376, -3.9448509820009234, -5.94654147312540...</td>\n",
              "      <td>[-5.873, -5.535454386954515, 4.142536828135369...</td>\n",
              "      <td>[-0.558, 6.421904312599354, -3.052210351692103...</td>\n",
              "    </tr>\n",
              "    <tr>\n",
              "      <th>2</th>\n",
              "      <td>2</td>\n",
              "      <td>kapelle herrenweide</td>\n",
              "      <td>humppa</td>\n",
              "      <td>2009</td>\n",
              "      <td>https://open.spotify.com/track/7kZQxHjiHHf6Kqy...</td>\n",
              "      <td>0</td>\n",
              "      <td>258.346</td>\n",
              "      <td>[1.651, 43.63666528403967, 44.80971266769758, ...</td>\n",
              "      <td>[153.244, 58.93194517583409, 55.15626104400886...</td>\n",
              "      <td>[20.856, -27.760677006311994, -0.9223222719103...</td>\n",
              "      <td>[-68.876, 71.00899765554554, 61.50337614410497...</td>\n",
              "      <td>[46.952, 6.437235166816954, -6.601664479458352...</td>\n",
              "      <td>[-61.662, 51.948587015329124, 15.9049562419024...</td>\n",
              "      <td>[30.292, 30.001814247069433, 25.23144305596188...</td>\n",
              "      <td>[-28.44, -19.782593507664565, -18.267860241568...</td>\n",
              "      <td>[-29.136, -43.0516872858431, -39.7837204831362...</td>\n",
              "      <td>[1.536, 20.711096302975655, -9.602437706356834...</td>\n",
              "      <td>[16.413, -22.591161226330026, -17.839150666610...</td>\n",
              "      <td>[-8.823, 19.360109107303877, 14.08162067956701...</td>\n",
              "    </tr>\n",
              "    <tr>\n",
              "      <th>3</th>\n",
              "      <td>3</td>\n",
              "      <td>2 minutos</td>\n",
              "      <td>rompan todo</td>\n",
              "      <td>2007</td>\n",
              "      <td>https://open.spotify.com/track/4RrFTURDPtSQcbZ...</td>\n",
              "      <td>0</td>\n",
              "      <td>88.586</td>\n",
              "      <td>[1.093, 51.130689943510035, 52.74655313008504,...</td>\n",
              "      <td>[156.545, 52.262964861328314, 33.7868968714500...</td>\n",
              "      <td>[25.101, 66.05149538824881, 24.51923926192011,...</td>\n",
              "      <td>[-54.729, -50.21109504356429, -9.7744942740474...</td>\n",
              "      <td>[56.904, 0.10991896722305494, -25.195918117343...</td>\n",
              "      <td>[-60.126, -11.785241311077778, -16.25799591661...</td>\n",
              "      <td>[26.202, 31.08373092266939, 32.918958030149525...</td>\n",
              "      <td>[-25.347, 24.86705913892701, 10.52566178502349...</td>\n",
              "      <td>[-30.721, -14.403229598187213, -14.19191108654...</td>\n",
              "      <td>[-4.711, 8.364651230332237, 6.013853673513248,...</td>\n",
              "      <td>[13.125, -10.645196151022883, 2.13488366952197...</td>\n",
              "      <td>[-10.526, -1.9825545910062878, -0.156492094194...</td>\n",
              "    </tr>\n",
              "    <tr>\n",
              "      <th>4</th>\n",
              "      <td>4</td>\n",
              "      <td>sonora carruseles</td>\n",
              "      <td>la chola caderona</td>\n",
              "      <td>2015</td>\n",
              "      <td>https://open.spotify.com/track/4lFHxhQGDhRbfYe...</td>\n",
              "      <td>0</td>\n",
              "      <td>295.306</td>\n",
              "      <td>[0.0, 38.675149685878175, 50.917856753023614, ...</td>\n",
              "      <td>[171.13, -47.33685659655833, 61.13510342620351...</td>\n",
              "      <td>[9.469, -8.687915596831491, 5.171144089209324,...</td>\n",
              "      <td>[-28.48, 103.47913602840754, -7.81937721928369...</td>\n",
              "      <td>[57.491, 9.400311663479915, -6.473240844928036...</td>\n",
              "      <td>[-50.067, -75.22705845397432, -6.7019374389381...</td>\n",
              "      <td>[14.833, -46.940350996995335, 1.90458376848699...</td>\n",
              "      <td>[5.359, -7.027439770554484, 15.520397466563324...</td>\n",
              "      <td>[-27.228, -21.236274515159792, -7.974969140585...</td>\n",
              "      <td>[0.973, -0.2617473367932267, 3.847741737694988...</td>\n",
              "      <td>[-10.64, -17.457464354001633, 12.9524641040325...</td>\n",
              "      <td>[-7.228, 2.9048615132477447, 18.35614995115049...</td>\n",
              "    </tr>\n",
              "  </tbody>\n",
              "</table>\n",
              "</div>\n",
              "      <button class=\"colab-df-convert\" onclick=\"convertToInteractive('df-330ab785-c5cf-41ba-856b-12ad18c4a68f')\"\n",
              "              title=\"Convert this dataframe to an interactive table.\"\n",
              "              style=\"display:none;\">\n",
              "        \n",
              "  <svg xmlns=\"http://www.w3.org/2000/svg\" height=\"24px\"viewBox=\"0 0 24 24\"\n",
              "       width=\"24px\">\n",
              "    <path d=\"M0 0h24v24H0V0z\" fill=\"none\"/>\n",
              "    <path d=\"M18.56 5.44l.94 2.06.94-2.06 2.06-.94-2.06-.94-.94-2.06-.94 2.06-2.06.94zm-11 1L8.5 8.5l.94-2.06 2.06-.94-2.06-.94L8.5 2.5l-.94 2.06-2.06.94zm10 10l.94 2.06.94-2.06 2.06-.94-2.06-.94-.94-2.06-.94 2.06-2.06.94z\"/><path d=\"M17.41 7.96l-1.37-1.37c-.4-.4-.92-.59-1.43-.59-.52 0-1.04.2-1.43.59L10.3 9.45l-7.72 7.72c-.78.78-.78 2.05 0 2.83L4 21.41c.39.39.9.59 1.41.59.51 0 1.02-.2 1.41-.59l7.78-7.78 2.81-2.81c.8-.78.8-2.07 0-2.86zM5.41 20L4 18.59l7.72-7.72 1.47 1.35L5.41 20z\"/>\n",
              "  </svg>\n",
              "      </button>\n",
              "      \n",
              "  <style>\n",
              "    .colab-df-container {\n",
              "      display:flex;\n",
              "      flex-wrap:wrap;\n",
              "      gap: 12px;\n",
              "    }\n",
              "\n",
              "    .colab-df-convert {\n",
              "      background-color: #E8F0FE;\n",
              "      border: none;\n",
              "      border-radius: 50%;\n",
              "      cursor: pointer;\n",
              "      display: none;\n",
              "      fill: #1967D2;\n",
              "      height: 32px;\n",
              "      padding: 0 0 0 0;\n",
              "      width: 32px;\n",
              "    }\n",
              "\n",
              "    .colab-df-convert:hover {\n",
              "      background-color: #E2EBFA;\n",
              "      box-shadow: 0px 1px 2px rgba(60, 64, 67, 0.3), 0px 1px 3px 1px rgba(60, 64, 67, 0.15);\n",
              "      fill: #174EA6;\n",
              "    }\n",
              "\n",
              "    [theme=dark] .colab-df-convert {\n",
              "      background-color: #3B4455;\n",
              "      fill: #D2E3FC;\n",
              "    }\n",
              "\n",
              "    [theme=dark] .colab-df-convert:hover {\n",
              "      background-color: #434B5C;\n",
              "      box-shadow: 0px 1px 3px 1px rgba(0, 0, 0, 0.15);\n",
              "      filter: drop-shadow(0px 1px 2px rgba(0, 0, 0, 0.3));\n",
              "      fill: #FFFFFF;\n",
              "    }\n",
              "  </style>\n",
              "\n",
              "      <script>\n",
              "        const buttonEl =\n",
              "          document.querySelector('#df-330ab785-c5cf-41ba-856b-12ad18c4a68f button.colab-df-convert');\n",
              "        buttonEl.style.display =\n",
              "          google.colab.kernel.accessAllowed ? 'block' : 'none';\n",
              "\n",
              "        async function convertToInteractive(key) {\n",
              "          const element = document.querySelector('#df-330ab785-c5cf-41ba-856b-12ad18c4a68f');\n",
              "          const dataTable =\n",
              "            await google.colab.kernel.invokeFunction('convertToInteractive',\n",
              "                                                     [key], {});\n",
              "          if (!dataTable) return;\n",
              "\n",
              "          const docLinkHtml = 'Like what you see? Visit the ' +\n",
              "            '<a target=\"_blank\" href=https://colab.research.google.com/notebooks/data_table.ipynb>data table notebook</a>'\n",
              "            + ' to learn more about interactive tables.';\n",
              "          element.innerHTML = '';\n",
              "          dataTable['output_type'] = 'display_data';\n",
              "          await google.colab.output.renderOutput(dataTable, element);\n",
              "          const docLink = document.createElement('div');\n",
              "          docLink.innerHTML = docLinkHtml;\n",
              "          element.appendChild(docLink);\n",
              "        }\n",
              "      </script>\n",
              "    </div>\n",
              "  </div>\n",
              "  "
            ]
          },
          "metadata": {},
          "execution_count": 8
        }
      ]
    },
    {
      "cell_type": "markdown",
      "metadata": {
        "id": "BNw0d_9ONKJs"
      },
      "source": [
        "The dataframe basically looks the same, but it actually contains lists instead of strings now.\n",
        "\n",
        "It might be cool to see what some timbre timecourses look like for a particular song. We can use the `plot_timbre` function which takes three parameters: the data, the song index, and the component number.\n",
        "\n",
        "The code below plots the timbre timecourse of component 3 for the song at index 0 in the dataset."
      ]
    },
    {
      "cell_type": "code",
      "metadata": {
        "id": "pegvhgFxNlWJ",
        "colab": {
          "base_uri": "https://localhost:8080/",
          "height": 449
        },
        "outputId": "d71516ef-9b62-4fc9-f130-087c6955a357"
      },
      "source": [
        "plot_timbre(data, 0, 3)"
      ],
      "execution_count": null,
      "outputs": [
        {
          "output_type": "display_data",
          "data": {
            "text/plain": [
              "<Figure size 640x480 with 1 Axes>"
            ],
            "image/png": "[encoded data removed]"
          },
          "metadata": {}
        }
      ]
    },
    {
      "cell_type": "markdown",
      "metadata": {
        "id": "Sey5BY6OlgOD"
      },
      "source": [
        "Discussion: **How is the timbre component weight changing over time?**"
      ]
    },
    {
      "cell_type": "markdown",
      "metadata": {
        "id": "2AmH1EhBQKEy"
      },
      "source": [
        "Now **plot 5 different timbre components of your choosing** from a song of your choice (there are 1000 in this dataset, so you can choose between indices 0 and 999). Comment on what you see!"
      ]
    },
    {
      "cell_type": "code",
      "metadata": {
        "id": "XQKc2qeWQJc7"
      },
      "source": [
        "### YOUR CODE HERE"
      ],
      "execution_count": null,
      "outputs": []
    },
    {
      "cell_type": "markdown",
      "metadata": {
        "id": "_YjcpXx5ONVq"
      },
      "source": [
        "Next, we're going to explode the timbre components into their individual timesteps. This will help for our simple machine learning models which can only take **scalar** (single number) values for their features, not lists.\n",
        "\n",
        "This process will essentially make 120 new columns per timbre component, resulting in 1440 new columns/features. Our new columns will have titles in the format:\n",
        "\n",
        "> `timbre_{component_number}_{timestep_number}`\n",
        "\n",
        "where the `component_number` goes from 1 to 12 and the timestep number goes from 0 to 119.\n",
        "\n",
        "Note that we're not going to drop the old features, just in case we need them later on.\n",
        "\n",
        "Do this by running the code cell below:"
      ]
    },
    {
      "cell_type": "code",
      "metadata": {
        "id": "JI5YbALcd1_0"
      },
      "source": [
        "n_timbres = 12 # this is the number of timbre components\n",
        "n_timesteps = 120 # this is the number of timesteps we're interested in\n",
        "\n",
        "for i in range(1,n_timbres+1):\n",
        "    exploded_cols = []\n",
        "    for t in range(n_timesteps):\n",
        "        new_column_title = 'timbre_' + str(i) + '_' + str(t) # this gets us the column title we need\n",
        "        exploded_cols.append(new_column_title)\n",
        "    # now, let's generate the new columns\n",
        "    data[exploded_cols] = pd.DataFrame(data['timbre_' + str(i)].to_list(), index=data.index)"
      ],
      "execution_count": null,
      "outputs": []
    },
    {
      "cell_type": "markdown",
      "metadata": {
        "id": "2xXHk0vymvIg"
      },
      "source": [
        "Now that we've done this, let's print out the data set again! **What's different?**"
      ]
    },
    {
      "cell_type": "code",
      "metadata": {
        "id": "Fgcjskbsm1Bz",
        "colab": {
          "base_uri": "https://localhost:8080/",
          "height": 508
        },
        "outputId": "67d75e8b-be1f-4156-df45-d92b7798f535"
      },
      "source": [
        "data.head()"
      ],
      "execution_count": null,
      "outputs": [
        {
          "output_type": "execute_result",
          "data": {
            "text/plain": [
              "   orig_index                     Artist              Track  Year  \\\n",
              "0           0  intonation featuring joee  died in your arms  2009   \n",
              "1           1               jack johnson            monsoon  2008   \n",
              "2           2        kapelle herrenweide             humppa  2009   \n",
              "3           3                  2 minutos        rompan todo  2007   \n",
              "4           4          sonora carruseles  la chola caderona  2015   \n",
              "\n",
              "                                                 url  Label  duration  \\\n",
              "0  https://open.spotify.com/track/0AAMVuVqJnW4PVZ...      1   280.160   \n",
              "1  https://open.spotify.com/track/7s4qhv3Txiv4oFW...      0   256.813   \n",
              "2  https://open.spotify.com/track/7kZQxHjiHHf6Kqy...      0   258.346   \n",
              "3  https://open.spotify.com/track/4RrFTURDPtSQcbZ...      0    88.586   \n",
              "4  https://open.spotify.com/track/4lFHxhQGDhRbfYe...      0   295.306   \n",
              "\n",
              "                                            timbre_1  \\\n",
              "0  [0.0, 31.93096608872048, 35.389407422975076, 3...   \n",
              "1  [2.998, 19.65953469052869, 12.744096217650963,...   \n",
              "2  [1.651, 43.63666528403967, 44.80971266769758, ...   \n",
              "3  [1.093, 51.130689943510035, 52.74655313008504,...   \n",
              "4  [0.0, 38.675149685878175, 50.917856753023614, ...   \n",
              "\n",
              "                                            timbre_2  \\\n",
              "0  [171.13, 79.98731220576416, 75.74027308646127,...   \n",
              "1  [103.425, -202.65228065227424, -75.61390510948...   \n",
              "2  [153.244, 58.93194517583409, 55.15626104400886...   \n",
              "3  [156.545, 52.262964861328314, 33.7868968714500...   \n",
              "4  [171.13, -47.33685659655833, 61.13510342620351...   \n",
              "\n",
              "                                            timbre_3  ... timbre_12_110  \\\n",
              "0  [9.469, 123.5155301412332, 114.41647005170022,...  ...      5.747648   \n",
              "1  [-58.005, -124.09351766576073, -123.3319800928...  ...      3.791805   \n",
              "2  [20.856, -27.760677006311994, -0.9223222719103...  ...    -12.017697   \n",
              "3  [25.101, 66.05149538824881, 24.51923926192011,...  ...     -5.674484   \n",
              "4  [9.469, -8.687915596831491, 5.171144089209324,...  ...      9.889077   \n",
              "\n",
              "  timbre_12_111 timbre_12_112 timbre_12_113 timbre_12_114 timbre_12_115  \\\n",
              "0     -9.033312     -6.249918     -2.200340    -23.149632    -24.397224   \n",
              "1     -5.079529     -8.855646    -10.307518     10.689436      6.177778   \n",
              "2     16.059680      4.756968     -6.614615     -4.795254     -0.113060   \n",
              "3    -12.784451     -2.597172      3.595489      9.819566    -17.290625   \n",
              "4     -7.827933      6.410276      5.864406      1.873198    -26.939129   \n",
              "\n",
              "  timbre_12_116 timbre_12_117 timbre_12_118  timbre_12_119  \n",
              "0     15.664995     -7.425312     -4.848591       0.929415  \n",
              "1    -15.560173     -2.890256      6.928514     -10.078932  \n",
              "2    -12.266024     -1.302216     -3.263997     -14.784442  \n",
              "3     -6.151195      5.837999    -12.961413     -14.434939  \n",
              "4      0.562737     -4.965123     -3.857713       9.032431  \n",
              "\n",
              "[5 rows x 1459 columns]"
            ],
            "text/html": [
              "\n",
              "  <div id=\"df-e4b68a06-1313-47bf-9d9b-c8e248f5edac\">\n",
              "    <div class=\"colab-df-container\">\n",
              "      <div>\n",
              "<style scoped>\n",
              "    .dataframe tbody tr th:only-of-type {\n",
              "        vertical-align: middle;\n",
              "    }\n",
              "\n",
              "    .dataframe tbody tr th {\n",
              "        vertical-align: top;\n",
              "    }\n",
              "\n",
              "    .dataframe thead th {\n",
              "        text-align: right;\n",
              "    }\n",
              "</style>\n",
              "<table border=\"1\" class=\"dataframe\">\n",
              "  <thead>\n",
              "    <tr style=\"text-align: right;\">\n",
              "      <th></th>\n",
              "      <th>orig_index</th>\n",
              "      <th>Artist</th>\n",
              "      <th>Track</th>\n",
              "      <th>Year</th>\n",
              "      <th>url</th>\n",
              "      <th>Label</th>\n",
              "      <th>duration</th>\n",
              "      <th>timbre_1</th>\n",
              "      <th>timbre_2</th>\n",
              "      <th>timbre_3</th>\n",
              "      <th>...</th>\n",
              "      <th>timbre_12_110</th>\n",
              "      <th>timbre_12_111</th>\n",
              "      <th>timbre_12_112</th>\n",
              "      <th>timbre_12_113</th>\n",
              "      <th>timbre_12_114</th>\n",
              "      <th>timbre_12_115</th>\n",
              "      <th>timbre_12_116</th>\n",
              "      <th>timbre_12_117</th>\n",
              "      <th>timbre_12_118</th>\n",
              "      <th>timbre_12_119</th>\n",
              "    </tr>\n",
              "  </thead>\n",
              "  <tbody>\n",
              "    <tr>\n",
              "      <th>0</th>\n",
              "      <td>0</td>\n",
              "      <td>intonation featuring joee</td>\n",
              "      <td>died in your arms</td>\n",
              "      <td>2009</td>\n",
              "      <td>https://open.spotify.com/track/0AAMVuVqJnW4PVZ...</td>\n",
              "      <td>1</td>\n",
              "      <td>280.160</td>\n",
              "      <td>[0.0, 31.93096608872048, 35.389407422975076, 3...</td>\n",
              "      <td>[171.13, 79.98731220576416, 75.74027308646127,...</td>\n",
              "      <td>[9.469, 123.5155301412332, 114.41647005170022,...</td>\n",
              "      <td>...</td>\n",
              "      <td>5.747648</td>\n",
              "      <td>-9.033312</td>\n",
              "      <td>-6.249918</td>\n",
              "      <td>-2.200340</td>\n",
              "      <td>-23.149632</td>\n",
              "      <td>-24.397224</td>\n",
              "      <td>15.664995</td>\n",
              "      <td>-7.425312</td>\n",
              "      <td>-4.848591</td>\n",
              "      <td>0.929415</td>\n",
              "    </tr>\n",
              "    <tr>\n",
              "      <th>1</th>\n",
              "      <td>1</td>\n",
              "      <td>jack johnson</td>\n",
              "      <td>monsoon</td>\n",
              "      <td>2008</td>\n",
              "      <td>https://open.spotify.com/track/7s4qhv3Txiv4oFW...</td>\n",
              "      <td>0</td>\n",
              "      <td>256.813</td>\n",
              "      <td>[2.998, 19.65953469052869, 12.744096217650963,...</td>\n",
              "      <td>[103.425, -202.65228065227424, -75.61390510948...</td>\n",
              "      <td>[-58.005, -124.09351766576073, -123.3319800928...</td>\n",
              "      <td>...</td>\n",
              "      <td>3.791805</td>\n",
              "      <td>-5.079529</td>\n",
              "      <td>-8.855646</td>\n",
              "      <td>-10.307518</td>\n",
              "      <td>10.689436</td>\n",
              "      <td>6.177778</td>\n",
              "      <td>-15.560173</td>\n",
              "      <td>-2.890256</td>\n",
              "      <td>6.928514</td>\n",
              "      <td>-10.078932</td>\n",
              "    </tr>\n",
              "    <tr>\n",
              "      <th>2</th>\n",
              "      <td>2</td>\n",
              "      <td>kapelle herrenweide</td>\n",
              "      <td>humppa</td>\n",
              "      <td>2009</td>\n",
              "      <td>https://open.spotify.com/track/7kZQxHjiHHf6Kqy...</td>\n",
              "      <td>0</td>\n",
              "      <td>258.346</td>\n",
              "      <td>[1.651, 43.63666528403967, 44.80971266769758, ...</td>\n",
              "      <td>[153.244, 58.93194517583409, 55.15626104400886...</td>\n",
              "      <td>[20.856, -27.760677006311994, -0.9223222719103...</td>\n",
              "      <td>...</td>\n",
              "      <td>-12.017697</td>\n",
              "      <td>16.059680</td>\n",
              "      <td>4.756968</td>\n",
              "      <td>-6.614615</td>\n",
              "      <td>-4.795254</td>\n",
              "      <td>-0.113060</td>\n",
              "      <td>-12.266024</td>\n",
              "      <td>-1.302216</td>\n",
              "      <td>-3.263997</td>\n",
              "      <td>-14.784442</td>\n",
              "    </tr>\n",
              "    <tr>\n",
              "      <th>3</th>\n",
              "      <td>3</td>\n",
              "      <td>2 minutos</td>\n",
              "      <td>rompan todo</td>\n",
              "      <td>2007</td>\n",
              "      <td>https://open.spotify.com/track/4RrFTURDPtSQcbZ...</td>\n",
              "      <td>0</td>\n",
              "      <td>88.586</td>\n",
              "      <td>[1.093, 51.130689943510035, 52.74655313008504,...</td>\n",
              "      <td>[156.545, 52.262964861328314, 33.7868968714500...</td>\n",
              "      <td>[25.101, 66.05149538824881, 24.51923926192011,...</td>\n",
              "      <td>...</td>\n",
              "      <td>-5.674484</td>\n",
              "      <td>-12.784451</td>\n",
              "      <td>-2.597172</td>\n",
              "      <td>3.595489</td>\n",
              "      <td>9.819566</td>\n",
              "      <td>-17.290625</td>\n",
              "      <td>-6.151195</td>\n",
              "      <td>5.837999</td>\n",
              "      <td>-12.961413</td>\n",
              "      <td>-14.434939</td>\n",
              "    </tr>\n",
              "    <tr>\n",
              "      <th>4</th>\n",
              "      <td>4</td>\n",
              "      <td>sonora carruseles</td>\n",
              "      <td>la chola caderona</td>\n",
              "      <td>2015</td>\n",
              "      <td>https://open.spotify.com/track/4lFHxhQGDhRbfYe...</td>\n",
              "      <td>0</td>\n",
              "      <td>295.306</td>\n",
              "      <td>[0.0, 38.675149685878175, 50.917856753023614, ...</td>\n",
              "      <td>[171.13, -47.33685659655833, 61.13510342620351...</td>\n",
              "      <td>[9.469, -8.687915596831491, 5.171144089209324,...</td>\n",
              "      <td>...</td>\n",
              "      <td>9.889077</td>\n",
              "      <td>-7.827933</td>\n",
              "      <td>6.410276</td>\n",
              "      <td>5.864406</td>\n",
              "      <td>1.873198</td>\n",
              "      <td>-26.939129</td>\n",
              "      <td>0.562737</td>\n",
              "      <td>-4.965123</td>\n",
              "      <td>-3.857713</td>\n",
              "      <td>9.032431</td>\n",
              "    </tr>\n",
              "  </tbody>\n",
              "</table>\n",
              "<p>5 rows × 1459 columns</p>\n",
              "</div>\n",
              "      <button class=\"colab-df-convert\" onclick=\"convertToInteractive('df-e4b68a06-1313-47bf-9d9b-c8e248f5edac')\"\n",
              "              title=\"Convert this dataframe to an interactive table.\"\n",
              "              style=\"display:none;\">\n",
              "        \n",
              "  <svg xmlns=\"http://www.w3.org/2000/svg\" height=\"24px\"viewBox=\"0 0 24 24\"\n",
              "       width=\"24px\">\n",
              "    <path d=\"M0 0h24v24H0V0z\" fill=\"none\"/>\n",
              "    <path d=\"M18.56 5.44l.94 2.06.94-2.06 2.06-.94-2.06-.94-.94-2.06-.94 2.06-2.06.94zm-11 1L8.5 8.5l.94-2.06 2.06-.94-2.06-.94L8.5 2.5l-.94 2.06-2.06.94zm10 10l.94 2.06.94-2.06 2.06-.94-2.06-.94-.94-2.06-.94 2.06-2.06.94z\"/><path d=\"M17.41 7.96l-1.37-1.37c-.4-.4-.92-.59-1.43-.59-.52 0-1.04.2-1.43.59L10.3 9.45l-7.72 7.72c-.78.78-.78 2.05 0 2.83L4 21.41c.39.39.9.59 1.41.59.51 0 1.02-.2 1.41-.59l7.78-7.78 2.81-2.81c.8-.78.8-2.07 0-2.86zM5.41 20L4 18.59l7.72-7.72 1.47 1.35L5.41 20z\"/>\n",
              "  </svg>\n",
              "      </button>\n",
              "      \n",
              "  <style>\n",
              "    .colab-df-container {\n",
              "      display:flex;\n",
              "      flex-wrap:wrap;\n",
              "      gap: 12px;\n",
              "    }\n",
              "\n",
              "    .colab-df-convert {\n",
              "      background-color: #E8F0FE;\n",
              "      border: none;\n",
              "      border-radius: 50%;\n",
              "      cursor: pointer;\n",
              "      display: none;\n",
              "      fill: #1967D2;\n",
              "      height: 32px;\n",
              "      padding: 0 0 0 0;\n",
              "      width: 32px;\n",
              "    }\n",
              "\n",
              "    .colab-df-convert:hover {\n",
              "      background-color: #E2EBFA;\n",
              "      box-shadow: 0px 1px 2px rgba(60, 64, 67, 0.3), 0px 1px 3px 1px rgba(60, 64, 67, 0.15);\n",
              "      fill: #174EA6;\n",
              "    }\n",
              "\n",
              "    [theme=dark] .colab-df-convert {\n",
              "      background-color: #3B4455;\n",
              "      fill: #D2E3FC;\n",
              "    }\n",
              "\n",
              "    [theme=dark] .colab-df-convert:hover {\n",
              "      background-color: #434B5C;\n",
              "      box-shadow: 0px 1px 3px 1px rgba(0, 0, 0, 0.15);\n",
              "      filter: drop-shadow(0px 1px 2px rgba(0, 0, 0, 0.3));\n",
              "      fill: #FFFFFF;\n",
              "    }\n",
              "  </style>\n",
              "\n",
              "      <script>\n",
              "        const buttonEl =\n",
              "          document.querySelector('#df-e4b68a06-1313-47bf-9d9b-c8e248f5edac button.colab-df-convert');\n",
              "        buttonEl.style.display =\n",
              "          google.colab.kernel.accessAllowed ? 'block' : 'none';\n",
              "\n",
              "        async function convertToInteractive(key) {\n",
              "          const element = document.querySelector('#df-e4b68a06-1313-47bf-9d9b-c8e248f5edac');\n",
              "          const dataTable =\n",
              "            await google.colab.kernel.invokeFunction('convertToInteractive',\n",
              "                                                     [key], {});\n",
              "          if (!dataTable) return;\n",
              "\n",
              "          const docLinkHtml = 'Like what you see? Visit the ' +\n",
              "            '<a target=\"_blank\" href=https://colab.research.google.com/notebooks/data_table.ipynb>data table notebook</a>'\n",
              "            + ' to learn more about interactive tables.';\n",
              "          element.innerHTML = '';\n",
              "          dataTable['output_type'] = 'display_data';\n",
              "          await google.colab.output.renderOutput(dataTable, element);\n",
              "          const docLink = document.createElement('div');\n",
              "          docLink.innerHTML = docLinkHtml;\n",
              "          element.appendChild(docLink);\n",
              "        }\n",
              "      </script>\n",
              "    </div>\n",
              "  </div>\n",
              "  "
            ]
          },
          "metadata": {},
          "execution_count": 12
        }
      ]
    },
    {
      "cell_type": "markdown",
      "metadata": {
        "id": "h3a7046ISQdM"
      },
      "source": [
        "For some reason, a few songs did not have 120 timesteps. This means there are some values in our table that are **null** or non-existent. What we're going to do, then, is figure out how many songs don't have 120 timesteps and then drop them from our dataset.\n",
        "\n",
        "Write some code that generates a list of where those songs are and drops those rows from our dataframe.\n",
        "\n",
        "Hints:\n",
        "1. You only need to use **one** timbre component to check which songs aren't long enough. So, for instance, you could just check the values in column `timbre_1_119`, which is the last timestep of timbre component 1.\n",
        "2. The function `.isnull()` will help you generate a list of boolean values to tell you whether something is null (`True`) or not (`False`).\n",
        "3. The function `np.where()` takes a list and returns a nested list telling you where the values are `True`. Note that because it returns a **nested list**, you will need to extract the element at index 0 of this output to get a regular list.\n",
        "4. `data.drop(index=your_rows,inplace=True)` will remove the rows you identified as having null timesteps from your dataframe."
      ]
    },
    {
      "cell_type": "code",
      "metadata": {
        "id": "LXl8Tb37TNHA"
      },
      "source": [
        "### YOUR CODE HERE\n",
        "data.drop(index=np.where(data['timbre_1_119'].isnull())[0],inplace=True)"
      ],
      "execution_count": null,
      "outputs": []
    },
    {
      "cell_type": "code",
      "metadata": {
        "id": "epnqFvoxXhje",
        "colab": {
          "base_uri": "https://localhost:8080/"
        },
        "outputId": "6563d9fe-a5ea-4a91-d794-01533a02e327"
      },
      "source": [
        "data.shape"
      ],
      "execution_count": null,
      "outputs": [
        {
          "output_type": "execute_result",
          "data": {
            "text/plain": [
              "(952, 1459)"
            ]
          },
          "metadata": {},
          "execution_count": 14
        }
      ]
    },
    {
      "cell_type": "code",
      "metadata": {
        "id": "FAIycAWGVtNI",
        "cellView": "form",
        "colab": {
          "base_uri": "https://localhost:8080/"
        },
        "outputId": "5c1d1c97-a3ff-4059-9e4a-2cdd260467d2"
      },
      "source": [
        "#@title Given that there were originally 1000 rows in your dataframe, how many were dropped? You may need to write a line of code to work this out.\n",
        "your_answer =  48#@param {type:\"number\"}\n",
        "if your_answer == 48:\n",
        "    print('Correct! We dropped 48 rows')\n",
        "else:\n",
        "    print('Incorrect -- double check your code.')"
      ],
      "execution_count": null,
      "outputs": [
        {
          "output_type": "stream",
          "name": "stdout",
          "text": [
            "Correct! We dropped 48 rows\n"
          ]
        }
      ]
    },
    {
      "cell_type": "code",
      "metadata": {
        "id": "I4piZiLPmaRY"
      },
      "source": [
        "### optional code cell to use!"
      ],
      "execution_count": null,
      "outputs": []
    },
    {
      "cell_type": "markdown",
      "metadata": {
        "id": "dqeetGluPxJN"
      },
      "source": [
        "## Machine learning on timbre timecourses\n",
        "\n",
        "We've done a lot of good work up until this point to get our data ready for some machine learning! What we're going to do now is use the timbre component values at each timestep in our new columns to train five basic models to predict hits. Note that, as with notebook 1, we have a column called `Label` that tells us whether a song was a hit (1) or not (0).\n",
        "\n",
        "Let's try five basic models to see how well they predict hits:\n",
        "1. Logistic regression\n",
        "2. Support vector classifier\n",
        "3. K-nearest neighbours\n",
        "4. Gaussian Naive Bayes\n",
        "5. Multi-layer perceptron (simple neural network)\n",
        "\n",
        "Your tasks are:\n",
        "1. Get X (the 1440 features we made) and y (the label) from the dataframe.\n",
        "2. Split up the dataset into train and test data, using a random state of 1 and 20% of data in testing.\n",
        "3. Run the models above and get their scores on the test data.\n",
        "4. Plot the scores in a bar graph."
      ]
    },
    {
      "cell_type": "code",
      "metadata": {
        "id": "iliItjP9eoIr",
        "colab": {
          "base_uri": "https://localhost:8080/"
        },
        "outputId": "acfc2cd9-61ba-4c35-b81a-ff2c8334612a"
      },
      "source": [
        "timbre_cols = [f'timbre_{i}_{j}' for i in range(1,n_timbres+1) for j in range(1,n_timesteps)]\n",
        "\n",
        "### TODO: Modify this code\n",
        "X = data[timbre_cols]\n",
        "y = data['Label']\n",
        "\n",
        "# TODO: add your train/test split code here\n",
        "X_train, X_test, y_train, y_test = train_test_split(X, y, test_size = 0.2, random_state = 1)\n",
        "\n",
        "models = [LogisticRegression(),\n",
        "          SVC(),\n",
        "          KNeighborsClassifier(),\n",
        "          GaussianNB(),\n",
        "          MLPClassifier(hidden_layer_sizes=(100,10))]\n",
        "model_names = [type(model).__name__ for model in models]\n",
        "\n",
        "model_scores = []\n",
        "\n",
        "### TODO: Modify this code\n",
        "for model in models:\n",
        "    model.fit(X_train, y_train)\n",
        "    score = model.score(X_test, y_test)\n",
        "    model_scores.append(score)\n",
        "\n"
      ],
      "execution_count": null,
      "outputs": [
        {
          "output_type": "stream",
          "name": "stderr",
          "text": [
            "/usr/local/lib/python3.10/dist-packages/sklearn/linear_model/_logistic.py:458: ConvergenceWarning: lbfgs failed to converge (status=1):\n",
            "STOP: TOTAL NO. of ITERATIONS REACHED LIMIT.\n",
            "\n",
            "Increase the number of iterations (max_iter) or scale the data as shown in:\n",
            "    https://scikit-learn.org/stable/modules/preprocessing.html\n",
            "Please also refer to the documentation for alternative solver options:\n",
            "    https://scikit-learn.org/stable/modules/linear_model.html#logistic-regression\n",
            "  n_iter_i = _check_optimize_result(\n"
          ]
        }
      ]
    },
    {
      "cell_type": "code",
      "source": [
        "model_scores\n",
        "plt.figure(figsize=(10,10))\n",
        "plt.bar(model_names, model_scores)\n",
        "plt.show()"
      ],
      "metadata": {
        "colab": {
          "base_uri": "https://localhost:8080/",
          "height": 830
        },
        "id": "K-HtRHHrCmpV",
        "outputId": "1feda868-97ce-4675-95ec-2ebe50b92cb8"
      },
      "execution_count": null,
      "outputs": [
        {
          "output_type": "display_data",
          "data": {
            "text/plain": [
              "<Figure size 1000x1000 with 1 Axes>"
            ],
            "image/png": "[encoded data removed]"
          },
          "metadata": {}
        }
      ]
    },
    {
      "cell_type": "code",
      "metadata": {
        "id": "3c7yVyVNmFwg",
        "cellView": "form"
      },
      "source": [
        "#@title How did these models do? Why do you think they performed this way?\n",
        "your_answer = '' #@param {type:\"string\"}"
      ],
      "execution_count": null,
      "outputs": []
    },
    {
      "cell_type": "markdown",
      "metadata": {
        "id": "A9QVzPcDrTsw"
      },
      "source": [
        "Cool, we were able to train a couple of different models! If you want, move on to the next optional section to try a different type of model."
      ]
    },
    {
      "cell_type": "markdown",
      "metadata": {
        "id": "QqapL3mHULCX"
      },
      "source": [
        "## Optional Bonus: RNNs with LSTM cells\n",
        "Since we're dealing with time-series data, it might be beneficial to use **RNNs** (recurrent neural networks). Even better, we can use **LSTM cells** which help with identifying long-term structure in the input. Here's what a regular RNN looks like:\n",
        "\n",
        "\n",
        "![RNN](https://drive.google.com/uc?id=1cXbEHSfZXq0q_BuYU9SUGZmdDRR0Ox3e)\n"
      ]
    },
    {
      "cell_type": "markdown",
      "metadata": {
        "id": "p6GQrYjlr7fd"
      },
      "source": [
        "## Discussion\n",
        "\n",
        "*   If we're using RNNs on our song data, what are our inputs and outputs?\n",
        "*   Why might using an RNN be useful to analyze our music data?\n",
        "*   How does an RNN or LSTM help with identifying long-term structure in the input?\n",
        "\n"
      ]
    },
    {
      "cell_type": "markdown",
      "metadata": {
        "id": "hrkaz3xyZhPX"
      },
      "source": [
        "In a recurrent network like this, our **outputs** ($o$) will be scalar/single number values that'll essentially be a prediction of whether a song is a hit or not.\n",
        "\n",
        "Let's think a bit more carefully about what our RNN **inputs** will be. You can see from the diagram above that we have a certain number of inputs, each marked $x^{(t)}$ where $t$ is a timestep. These $\\large{x}\\,$s are basically vectors of features.\n",
        "\n",
        "In our case, our features are the values of the timbre components. So ideally what we want is to get one vector of **12 timbres** for each timestep for each song. Right now, we have it the other way round: we have vectors of **120 timesteps** for each timbre component individually for each song.\n",
        "\n",
        "The code below swaps the dimensions of our original lists around so that they're vectors of timbres rather than vectors of timesteps, and stores it in a new matrix called `X_new`. The code below is a little involved and takes a few seconds to run, but your instructor will help you understand it!"
      ]
    },
    {
      "cell_type": "code",
      "metadata": {
        "id": "ghj_8RN5W4Tx"
      },
      "source": [
        "cols = ['timbre_' + str(i) for i in range(1,n_timbres+1)]\n",
        "all_songs = []\n",
        "for s in range(len(data)): # for every song in the dataframe\n",
        "    song_timbre_vectors = []\n",
        "    for t in range(n_timesteps): # for each timestep\n",
        "        # let's now make a list of the timbre components for song s at timestep t\n",
        "        time_t_timbres = [data[col].iloc[s][t] for col in cols]\n",
        "        # now let's add it to our song_timbre_vectors_list\n",
        "        song_timbre_vectors.append(time_t_timbres)\n",
        "    # now let's add that song's timbre vectors to the all_songs list\n",
        "    all_songs.append(song_timbre_vectors)\n",
        "\n",
        "# finally, convert this to a matrix.\n",
        "X_new = np.array(all_songs)"
      ],
      "execution_count": null,
      "outputs": []
    },
    {
      "cell_type": "markdown",
      "metadata": {
        "id": "x_cdVAZEetNI"
      },
      "source": [
        "Let's now look at the dimensions of `X_new`."
      ]
    },
    {
      "cell_type": "code",
      "metadata": {
        "id": "oE5n4sQpewn4",
        "colab": {
          "base_uri": "https://localhost:8080/"
        },
        "outputId": "05eb5870-1302-48f2-9c5b-493ad3e452e8"
      },
      "source": [
        "print(X_new.shape)"
      ],
      "execution_count": null,
      "outputs": [
        {
          "output_type": "stream",
          "name": "stdout",
          "text": [
            "(952, 120, 12)\n"
          ]
        }
      ]
    },
    {
      "cell_type": "code",
      "metadata": {
        "id": "J6ErWRiTYmad",
        "cellView": "form",
        "colab": {
          "base_uri": "https://localhost:8080/"
        },
        "outputId": "bcb1e3b2-7260-4ffa-b0a8-6294e75683fa"
      },
      "source": [
        "#@title What do the dimensions represent?\n",
        "dim1 = \"rows\" #@param {type:\"string\"}\n",
        "dim2 = \"timbre\" #@param {type:\"string\"}\n",
        "dim3 = 'timbre' #@param {type:\"string\"}\n",
        "\n",
        "print(f'{X_new.shape[0]} is {dim1}')\n",
        "print(f'{X_new.shape[1]} is {dim2}')\n",
        "print(f'{X_new.shape[2]} is {dim3}')"
      ],
      "execution_count": null,
      "outputs": [
        {
          "output_type": "stream",
          "name": "stdout",
          "text": [
            "952 is rows\n",
            "120 is timbre\n",
            "12 is timbre\n"
          ]
        }
      ]
    },
    {
      "cell_type": "markdown",
      "metadata": {
        "id": "Xxsh6Y-VdZjB"
      },
      "source": [
        "Let's also ensure that we make `y_new` from y, as a numpy array with the length equivalent to the number of examples."
      ]
    },
    {
      "cell_type": "code",
      "metadata": {
        "id": "p-lAe03qdY29",
        "colab": {
          "base_uri": "https://localhost:8080/"
        },
        "outputId": "7d8b3479-56bf-4ce1-c299-47dbb29d9e77"
      },
      "source": [
        "y_new = np.array(y)\n",
        "y_new.shape"
      ],
      "execution_count": null,
      "outputs": [
        {
          "output_type": "execute_result",
          "data": {
            "text/plain": [
              "(952,)"
            ]
          },
          "metadata": {},
          "execution_count": 23
        }
      ]
    },
    {
      "cell_type": "markdown",
      "metadata": {
        "id": "oU3Gzzc_Zm3M"
      },
      "source": [
        "Let's do one final import!"
      ]
    },
    {
      "cell_type": "code",
      "metadata": {
        "id": "XpHvw_uxZk8N",
        "cellView": "form"
      },
      "source": [
        "#@title Final import!\n",
        "from keras.preprocessing.sequence import TimeseriesGenerator\n",
        "from keras.models import Sequential\n",
        "from keras.layers import Dense\n",
        "from keras.layers import LSTM\n",
        "from keras.losses import BinaryCrossentropy"
      ],
      "execution_count": null,
      "outputs": []
    },
    {
      "cell_type": "markdown",
      "metadata": {
        "id": "LVqlLJTDd8Rl"
      },
      "source": [
        "Now let's build the LSTM model. There are a few things you'll need to do:\n",
        "\n",
        "1. Specify the number of timesteps, the size of the input and the size of the output.\n",
        "2. Decide how big the immediate output of the LSTM should be.\n",
        "3. Decide how many neurons you want in your dense (fully connected) layer after the LSTM layer.\n",
        "4. Decide if you want to add more layers to your model!\n"
      ]
    },
    {
      "cell_type": "code",
      "metadata": {
        "id": "yTaPCwhLaFGj",
        "colab": {
          "base_uri": "https://localhost:8080/"
        },
        "outputId": "75cd3885-d83a-4f57-9f87-b58f01c88bb4"
      },
      "source": [
        "# Build the model\n",
        "## TODO: fill in the dimension sizes here\n",
        "n_timesteps = 120\n",
        "n_input = 12\n",
        "n_output = 1\n",
        "\n",
        "model = Sequential()\n",
        "## TODO: Choose the number of neurons in the LSTM output.\n",
        "model.add(LSTM(128, input_shape=(n_timesteps,n_input)))\n",
        "## TODO: Choose the number of units in your dense hidden layer\n",
        "model.add(Dense(100))\n",
        "# Do you want more layers? Add them here!\n",
        "model.add(Dense(10))\n",
        "# Leave this one in\n",
        "model.add(Dense(n_output))\n",
        "model.summary()"
      ],
      "execution_count": null,
      "outputs": [
        {
          "output_type": "stream",
          "name": "stdout",
          "text": [
            "Model: \"sequential_1\"\n",
            "_________________________________________________________________\n",
            " Layer (type)                Output Shape              Param #   \n",
            "=================================================================\n",
            " lstm (LSTM)                 (None, 128)               72192     \n",
            "                                                                 \n",
            " dense (Dense)               (None, 100)               12900     \n",
            "                                                                 \n",
            " dense_1 (Dense)             (None, 10)                1010      \n",
            "                                                                 \n",
            " dense_2 (Dense)             (None, 1)                 11        \n",
            "                                                                 \n",
            "=================================================================\n",
            "Total params: 86,113\n",
            "Trainable params: 86,113\n",
            "Non-trainable params: 0\n",
            "_________________________________________________________________\n"
          ]
        }
      ]
    },
    {
      "cell_type": "markdown",
      "metadata": {
        "id": "EBIQdgyIeOZa"
      },
      "source": [
        "Finally, let's train it!"
      ]
    },
    {
      "cell_type": "code",
      "metadata": {
        "id": "qTLFWHWzannW",
        "colab": {
          "base_uri": "https://localhost:8080/"
        },
        "outputId": "2fd0c3ff-5471-46a2-ebca-d4fab3046096"
      },
      "source": [
        "# new train-test split\n",
        "X_new_train, X_new_test, y_new_train, y_new_test = train_test_split(X_new, y_new, test_size=.2, random_state=1)\n",
        "\n",
        "model.compile(\n",
        "    loss=BinaryCrossentropy(from_logits=True),\n",
        "    optimizer=\"adam\",\n",
        "    metrics=[\"accuracy\"],\n",
        ")\n",
        "\n",
        "model.fit(\n",
        "    X_new_train, y_new_train, validation_data=(X_new_test, y_new_test), batch_size=50, epochs=30\n",
        ")\n"
      ],
      "execution_count": null,
      "outputs": [
        {
          "output_type": "stream",
          "name": "stdout",
          "text": [
            "Epoch 1/30\n",
            "16/16 [==============================] - 14s 553ms/step - loss: 0.7227 - accuracy: 0.5664 - val_loss: 0.6420 - val_accuracy: 0.6021\n",
            "Epoch 2/30\n",
            "16/16 [==============================] - 6s 343ms/step - loss: 0.5686 - accuracy: 0.6859 - val_loss: 0.6236 - val_accuracy: 0.5759\n",
            "Epoch 3/30\n",
            "16/16 [==============================] - 5s 345ms/step - loss: 0.4870 - accuracy: 0.7332 - val_loss: 0.6237 - val_accuracy: 0.6126\n",
            "Epoch 4/30\n",
            "16/16 [==============================] - 3s 191ms/step - loss: 0.4009 - accuracy: 0.7963 - val_loss: 0.6322 - val_accuracy: 0.6230\n",
            "Epoch 5/30\n",
            "16/16 [==============================] - 3s 197ms/step - loss: 0.3114 - accuracy: 0.8699 - val_loss: 0.6590 - val_accuracy: 0.6545\n",
            "Epoch 6/30\n",
            "16/16 [==============================] - 3s 192ms/step - loss: 0.2279 - accuracy: 0.8962 - val_loss: 0.7227 - val_accuracy: 0.6283\n",
            "Epoch 7/30\n",
            "16/16 [==============================] - 5s 294ms/step - loss: 0.1456 - accuracy: 0.9580 - val_loss: 0.7592 - val_accuracy: 0.6754\n",
            "Epoch 8/30\n",
            "16/16 [==============================] - 3s 194ms/step - loss: 0.0805 - accuracy: 0.9869 - val_loss: 0.8611 - val_accuracy: 0.6492\n",
            "Epoch 9/30\n",
            "16/16 [==============================] - 3s 195ms/step - loss: 0.0518 - accuracy: 0.9869 - val_loss: 0.8918 - val_accuracy: 0.6597\n",
            "Epoch 10/30\n",
            "16/16 [==============================] - 3s 208ms/step - loss: 0.0424 - accuracy: 0.9921 - val_loss: 0.9670 - val_accuracy: 0.6649\n",
            "Epoch 11/30\n",
            "16/16 [==============================] - 4s 267ms/step - loss: 0.0250 - accuracy: 1.0000 - val_loss: 1.0732 - val_accuracy: 0.6702\n",
            "Epoch 12/30\n",
            "16/16 [==============================] - 3s 193ms/step - loss: 0.0119 - accuracy: 1.0000 - val_loss: 1.0335 - val_accuracy: 0.6702\n",
            "Epoch 13/30\n",
            "16/16 [==============================] - 3s 206ms/step - loss: 0.0080 - accuracy: 1.0000 - val_loss: 1.0867 - val_accuracy: 0.6440\n",
            "Epoch 14/30\n",
            "16/16 [==============================] - 4s 245ms/step - loss: 0.0053 - accuracy: 1.0000 - val_loss: 1.1216 - val_accuracy: 0.6545\n",
            "Epoch 15/30\n",
            "16/16 [==============================] - 4s 225ms/step - loss: 0.0040 - accuracy: 1.0000 - val_loss: 1.1421 - val_accuracy: 0.6649\n",
            "Epoch 16/30\n",
            "16/16 [==============================] - 3s 197ms/step - loss: 0.0031 - accuracy: 1.0000 - val_loss: 1.1688 - val_accuracy: 0.6492\n",
            "Epoch 17/30\n",
            "16/16 [==============================] - 3s 196ms/step - loss: 0.0025 - accuracy: 1.0000 - val_loss: 1.1861 - val_accuracy: 0.6387\n",
            "Epoch 18/30\n",
            "16/16 [==============================] - 4s 276ms/step - loss: 0.0021 - accuracy: 1.0000 - val_loss: 1.2086 - val_accuracy: 0.6387\n",
            "Epoch 19/30\n",
            "16/16 [==============================] - 3s 193ms/step - loss: 0.0019 - accuracy: 1.0000 - val_loss: 1.2273 - val_accuracy: 0.6387\n",
            "Epoch 20/30\n",
            "16/16 [==============================] - 3s 195ms/step - loss: 0.0016 - accuracy: 1.0000 - val_loss: 1.2448 - val_accuracy: 0.6440\n",
            "Epoch 21/30\n",
            "16/16 [==============================] - 3s 196ms/step - loss: 0.0014 - accuracy: 1.0000 - val_loss: 1.2650 - val_accuracy: 0.6335\n",
            "Epoch 22/30\n",
            "16/16 [==============================] - 4s 287ms/step - loss: 0.0013 - accuracy: 1.0000 - val_loss: 1.2685 - val_accuracy: 0.6440\n",
            "Epoch 23/30\n",
            "16/16 [==============================] - 3s 191ms/step - loss: 0.0011 - accuracy: 1.0000 - val_loss: 1.2855 - val_accuracy: 0.6335\n",
            "Epoch 24/30\n",
            "16/16 [==============================] - 5s 290ms/step - loss: 0.0010 - accuracy: 1.0000 - val_loss: 1.2953 - val_accuracy: 0.6335\n",
            "Epoch 25/30\n",
            "16/16 [==============================] - 4s 260ms/step - loss: 9.2204e-04 - accuracy: 1.0000 - val_loss: 1.3089 - val_accuracy: 0.6335\n",
            "Epoch 26/30\n",
            "16/16 [==============================] - 3s 208ms/step - loss: 8.3935e-04 - accuracy: 1.0000 - val_loss: 1.3187 - val_accuracy: 0.6335\n",
            "Epoch 27/30\n",
            "16/16 [==============================] - 3s 195ms/step - loss: 7.7116e-04 - accuracy: 1.0000 - val_loss: 1.3316 - val_accuracy: 0.6335\n",
            "Epoch 28/30\n",
            "16/16 [==============================] - 3s 191ms/step - loss: 7.0825e-04 - accuracy: 1.0000 - val_loss: 1.3430 - val_accuracy: 0.6335\n",
            "Epoch 29/30\n",
            "16/16 [==============================] - 4s 288ms/step - loss: 6.5458e-04 - accuracy: 1.0000 - val_loss: 1.3531 - val_accuracy: 0.6283\n",
            "Epoch 30/30\n",
            "16/16 [==============================] - 3s 196ms/step - loss: 6.0877e-04 - accuracy: 1.0000 - val_loss: 1.3635 - val_accuracy: 0.6283\n"
          ]
        },
        {
          "output_type": "execute_result",
          "data": {
            "text/plain": [
              "<keras.callbacks.History at 0x7f145d565660>"
            ]
          },
          "metadata": {},
          "execution_count": 27
        }
      ]
    },
    {
      "cell_type": "markdown",
      "metadata": {
        "id": "hu9WQ78Mg3-8"
      },
      "source": [
        "**Question**: how did this model do compared to the others? What benefits and drawbacks are there to the LSTM model?"
      ]
    },
    {
      "cell_type": "code",
      "source": [],
      "metadata": {
        "id": "Qimpe_tQB02k"
      },
      "execution_count": null,
      "outputs": []
    },
    {
      "cell_type": "code",
      "metadata": {
        "id": "yVtZV9hbehh-",
        "cellView": "form"
      },
      "source": [
        "#@title **Question**: how did this model do compared to the others? What benefits and drawbacks are there to the LSTM model?\n",
        "your_answer = '' #@param {type:\"string\"}\n",
        "print(your_answer)"
      ],
      "execution_count": null,
      "outputs": []
    },
    {
      "cell_type": "markdown",
      "metadata": {
        "id": "uAD1XOU9jpIE"
      },
      "source": [
        "## Congrats on building your models!\n",
        "Well done for getting through the notebook so far! This isn't an easy one and you've learned a lot already.\n",
        "\n",
        "In the optional next notebook, you'll have the chance to take a look at more music analysis using spectrograms and principal components analysis. This stuff is pretty challenging, so if you have time go ahead and give it a try!"
      ]
    }
  ]
}